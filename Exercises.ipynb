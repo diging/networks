{
 "cells": [
  {
   "cell_type": "code",
   "execution_count": 1,
   "metadata": {
    "collapsed": true
   },
   "outputs": [],
   "source": [
    "import random"
   ]
  },
  {
   "cell_type": "markdown",
   "metadata": {},
   "source": [
    "## Exercises"
   ]
  },
  {
   "cell_type": "markdown",
   "metadata": {},
   "source": [
    "### E.1. Random graph\n",
    "\n",
    "Given the list of proteins (``proteins``), below, create a random graph. Each ``str`` in the list ``proteins`` refers to a single protein. There are 8 proteins in the list, and therefore $8^2$ possible interactions among them (proteins can interact with themselves). \n",
    "\n",
    "Each time you evaluate a pair of proteins, call the ``interaction()`` function (defined below) to see whether there is an interaction between them. If so, print the names of the interacting proteins. Otherwise, move on.\n",
    "\n",
    "**Hint:** you can print several variables on one line using commas. E.g.\n",
    "\n",
    "```python\n",
    "print prot1, '----', prot2\n",
    "```"
   ]
  },
  {
   "cell_type": "code",
   "execution_count": 7,
   "metadata": {
    "collapsed": false
   },
   "outputs": [],
   "source": [
    "proteins = ['Grf', 'Odi', 'Jon', 'Ner', 'Poo', 'Bin', 'Her', 'Liz']\n",
    "\n",
    "def interaction(criterion=0.25):\n",
    "    return random.random() < criterion"
   ]
  },
  {
   "cell_type": "code",
   "execution_count": null,
   "metadata": {
    "collapsed": true
   },
   "outputs": [],
   "source": []
  }
 ],
 "metadata": {
  "kernelspec": {
   "display_name": "Python 2",
   "language": "python",
   "name": "python2"
  },
  "language_info": {
   "codemirror_mode": {
    "name": "ipython",
    "version": 2
   },
   "file_extension": ".py",
   "mimetype": "text/x-python",
   "name": "python",
   "nbconvert_exporter": "python",
   "pygments_lexer": "ipython2",
   "version": "2.7.9"
  }
 },
 "nbformat": 4,
 "nbformat_minor": 0
}
