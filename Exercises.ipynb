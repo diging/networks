{
 "cells": [
  {
   "cell_type": "code",
   "execution_count": 2,
   "metadata": {
    "collapsed": true
   },
   "outputs": [],
   "source": [
    "import random"
   ]
  },
  {
   "cell_type": "markdown",
   "metadata": {},
   "source": [
    "## Exercises"
   ]
  },
  {
   "cell_type": "markdown",
   "metadata": {},
   "source": [
    "### E.1. Random graph\n",
    "\n",
    "Given the list of proteins (``proteins``), below, create a random graph. Each ``str`` in the list ``proteins`` refers to a single protein. There are 8 proteins in the list, and therefore $8^2$ possible interactions among them (proteins can interact with themselves). \n",
    "\n",
    "Each time you evaluate a pair of proteins, call the ``interaction()`` function (defined below) to see whether there is an interaction between them. If so, print the names of the interacting proteins. Otherwise, move on.\n",
    "\n",
    "**Hint:** you can print several variables on one line using commas. E.g.\n",
    "\n",
    "```python\n",
    "print prot1, '----', prot2\n",
    "```"
   ]
  },
  {
   "cell_type": "code",
   "execution_count": 6,
   "metadata": {
    "collapsed": false
   },
   "outputs": [],
   "source": [
    "proteins = ['Grf', 'Odi', 'Jon', 'Ner', 'Poo', 'Bin', 'Her', 'Liz']\n",
    "\n",
    "def interaction(criterion=0.25):    \n",
    "    \"\"\"\n",
    "    Decide whether or not an interaction occurs.\n",
    "    \n",
    "    Parameters\n",
    "    ----------\n",
    "    criterion : float\n",
    "        Probability of interaction, 0.0 < p < 1.0. (default: 0.25)\n",
    "    \n",
    "    Returns\n",
    "    -------\n",
    "    bool\n",
    "    \"\"\"\n",
    "    return random.random() < criterion"
   ]
  },
  {
   "cell_type": "markdown",
   "metadata": {
    "collapsed": true
   },
   "source": [
    "#### E.1.2. Make it functional\n",
    "\n",
    "If you havent already, turn your code from E.1 into a function that accepts a list of proteins, and a probability of interaction. When you call the ``interaction()`` function, you should pass that probability along as a parameter.\n",
    "\n",
    "**Hint**: the ``=0.25`` in the means that the default value is ``0.25``. In other words, if you call ``interaction()`` without any parameters, ``criterion`` will be set to ``0.25``. If you do pass a parameter, e.g. ``interaction(0.1)``, then ``criterion`` will be ``0.1``."
   ]
  },
  {
   "cell_type": "markdown",
   "metadata": {},
   "source": [
    "#### E.1.3. Create your own decision rule\n",
    "\n",
    "In the exercises above, you used the function ``interaction()`` to decide whether or not two proteins interacted with each other. That function returned ``True`` around 25% of the time. In E.1.2 you allowed the probability of interaction to be modified.\n",
    "\n",
    "Now, modify your function from E.1.2 to accept a custom decision function (``interaction``, above) as a parameter! Then write your own version of ``interaction`` that only draws an edge if two proteins share at least one character in their names. **Hint**: you might want to convert names to lowercase before comparing them."
   ]
  },
  {
   "cell_type": "markdown",
   "metadata": {},
   "source": []
  }
 ],
 "metadata": {
  "kernelspec": {
   "display_name": "Python 2",
   "language": "python",
   "name": "python2"
  },
  "language_info": {
   "codemirror_mode": {
    "name": "ipython",
    "version": 2
   },
   "file_extension": ".py",
   "mimetype": "text/x-python",
   "name": "python",
   "nbconvert_exporter": "python",
   "pygments_lexer": "ipython2",
   "version": "2.7.9"
  }
 },
 "nbformat": 4,
 "nbformat_minor": 0
}
