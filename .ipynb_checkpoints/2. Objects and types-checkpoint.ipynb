{
 "cells": [
  {
   "cell_type": "markdown",
   "metadata": {},
   "source": [
    "# Programming for Network Research\n",
    "**[Erick Peirson, PhD](https://asu.academia.edu/ErickPeirson)** | erick.peirson@asu.edu | [@captbarberousse](https://twitter.com/captbarberousse)\n",
    "\n",
    "Last updated 21 January, 2016"
   ]
  },
  {
   "cell_type": "markdown",
   "metadata": {},
   "source": [
    "* [0. Introduction](0.%20Introduction.ipynb).\n",
    "* [1. First steps with Python](1.%20First%20steps%20with%20Python.ipynb).\n",
    "* **[2. Objects and types](2.%20Objects%20and%20types.ipynb).**\n",
    "* [3. Flow control: if, elif, else, and friends.](3.%20Flow%20control.%20if%2C%20elif%2C%20else%2C%20and%20friends.ipynb)* 4: Functions and functional programming.\n",
    "* 5: I/O: working with data! Numpy and Pandas.\n",
    "* 6: Our first tabular graph. Layout and visualization in Cytoscape.\n",
    "* 7: Intro to NetworkX. GraphML. Advanced visualization in Cytoscape.\n",
    "* 8: Blockmodels in NetworkX.\n",
    "* 9: Properties of graphs: whole-graph statistics in NetworkX and Cytoscape.\n",
    "* 10: Properties of nodes: centrality statistics.\n",
    "* 11: ..."
   ]
  },
  {
   "cell_type": "markdown",
   "metadata": {},
   "source": [
    "## 2. Objects and Types\n",
    "\n",
    "We use all kinds of words to describe things in Python. We have strings (``str``), integers (``int``), lists (``list``), and functions (``function``). In the end, however, these are all ``object``s. In fact, aside from syntax and operators (e.g. ``def``, ``+``, etc.), **everything in Python is an object**.\n",
    "\n",
    "What sets different kinds of objects apart is their **type**. Every object has a type. You can find out the type of an object using the ``type`` function."
   ]
  },
  {
   "cell_type": "code",
   "execution_count": 1,
   "metadata": {
    "collapsed": false
   },
   "outputs": [
    {
     "data": {
      "text/plain": [
       "str"
      ]
     },
     "execution_count": 1,
     "metadata": {},
     "output_type": "execute_result"
    }
   ],
   "source": [
    "type(\"What am I?\")"
   ]
  },
  {
   "cell_type": "markdown",
   "metadata": {},
   "source": [
    "Another word for type is \"class\". When I'm working with a particular string (``str``), for example, I'm working with an instance of the ``str`` class. "
   ]
  },
  {
   "cell_type": "code",
   "execution_count": 23,
   "metadata": {
    "collapsed": false
   },
   "outputs": [
    {
     "name": "stdout",
     "output_type": "stream",
     "text": [
      "I am an instance of a string\n",
      "<type 'str'>\n",
      "<type 'type'>\n"
     ]
    }
   ],
   "source": [
    "print \"I am an instance of a string\"\n",
    "print str                # <-- This is the str class, or type.\n",
    "print type(str)          # <-- The str type is an instance of class `type`."
   ]
  },
  {
   "cell_type": "markdown",
   "metadata": {},
   "source": [
    "A ``function`` is also an object, for which there is a ``function`` type."
   ]
  },
  {
   "cell_type": "code",
   "execution_count": 5,
   "metadata": {
    "collapsed": false
   },
   "outputs": [
    {
     "data": {
      "text/plain": [
       "function"
      ]
     },
     "execution_count": 5,
     "metadata": {},
     "output_type": "execute_result"
    }
   ],
   "source": [
    "def myfunction():\n",
    "    return True\n",
    "\n",
    "type(myfunction)"
   ]
  },
  {
   "cell_type": "markdown",
   "metadata": {},
   "source": [
    "### 2.1. Be careful with your types!"
   ]
  },
  {
   "cell_type": "markdown",
   "metadata": {},
   "source": [
    "Each type/class has different attributes, and different things that you can do with them. And many functions will work on instances of some types but not others. If you try to do something with an object of the wrong type, you'll usually get a ``TypeError``."
   ]
  },
  {
   "cell_type": "code",
   "execution_count": 11,
   "metadata": {
    "collapsed": false
   },
   "outputs": [
    {
     "ename": "TypeError",
     "evalue": "unsupported operand type(s) for /: 'str' and 'int'",
     "output_type": "error",
     "traceback": [
      "\u001b[0;31m---------------------------------------------------------------------------\u001b[0m",
      "\u001b[0;31mTypeError\u001b[0m                                 Traceback (most recent call last)",
      "\u001b[0;32m<ipython-input-11-c2b4e5d2d3e0>\u001b[0m in \u001b[0;36m<module>\u001b[0;34m()\u001b[0m\n\u001b[0;32m----> 1\u001b[0;31m \u001b[0;34m'a'\u001b[0m\u001b[0;34m/\u001b[0m\u001b[0;36m5\u001b[0m\u001b[0;34m\u001b[0m\u001b[0m\n\u001b[0m",
      "\u001b[0;31mTypeError\u001b[0m: unsupported operand type(s) for /: 'str' and 'int'"
     ]
    }
   ],
   "source": [
    "'a'/5"
   ]
  },
  {
   "cell_type": "code",
   "execution_count": 12,
   "metadata": {
    "collapsed": false
   },
   "outputs": [
    {
     "ename": "TypeError",
     "evalue": "unsupported operand type(s) for +: 'int' and 'str'",
     "output_type": "error",
     "traceback": [
      "\u001b[0;31m---------------------------------------------------------------------------\u001b[0m",
      "\u001b[0;31mTypeError\u001b[0m                                 Traceback (most recent call last)",
      "\u001b[0;32m<ipython-input-12-63c618b5e5d4>\u001b[0m in \u001b[0;36m<module>\u001b[0;34m()\u001b[0m\n\u001b[0;32m----> 1\u001b[0;31m \u001b[0msum\u001b[0m\u001b[0;34m(\u001b[0m\u001b[0;34m'what is the sum of this string'\u001b[0m\u001b[0;34m)\u001b[0m\u001b[0;34m\u001b[0m\u001b[0m\n\u001b[0m",
      "\u001b[0;31mTypeError\u001b[0m: unsupported operand type(s) for +: 'int' and 'str'"
     ]
    }
   ],
   "source": [
    "sum('what is the sum of this string')"
   ]
  },
  {
   "cell_type": "markdown",
   "metadata": {},
   "source": [
    "### 2.2. Instance methods.\n",
    "\n",
    "Instances (objects) of different classes have different built-in **methods** (another word for a function). An **instance method** is like a super power: think about it like an intrinsic ability of the object.\n",
    "\n",
    "We can use instance methods by writing the name of the object, and then a period (.), and then the name of the method. For example, we can change a ``str`` to lower case using the ``lowercase()`` method:"
   ]
  },
  {
   "cell_type": "code",
   "execution_count": 34,
   "metadata": {
    "collapsed": false
   },
   "outputs": [
    {
     "name": "stdout",
     "output_type": "stream",
     "text": [
      "yyyyikes\n"
     ]
    }
   ],
   "source": [
    "mystring = 'YYYYIKES'\n",
    "print mystring.lower()    # lower() is an instance method for strings!"
   ]
  },
  {
   "cell_type": "markdown",
   "metadata": {},
   "source": [
    "Just like other functions, instance methods can accept arguments. For example, I can count the number of 'Y' characters in my string object using the ``count()`` method:"
   ]
  },
  {
   "cell_type": "code",
   "execution_count": 37,
   "metadata": {
    "collapsed": false
   },
   "outputs": [
    {
     "name": "stdout",
     "output_type": "stream",
     "text": [
      "4\n"
     ]
    }
   ],
   "source": [
    "print mystring.count('Y')    # How many Y's are there in my string?"
   ]
  },
  {
   "cell_type": "markdown",
   "metadata": {},
   "source": [
    "In IPython, you can get information about a function or method by writing everything up to the open parens, and then pressing ``shift + tab``. For example, try writing the following in the code-cell below:\n",
    "\n",
    "```python\n",
    "mystring.count(\n",
    "```\n",
    "\n",
    "and then press ``shift + tab`` on your keyboard. It should open a little box with information about the method."
   ]
  },
  {
   "cell_type": "code",
   "execution_count": null,
   "metadata": {
    "collapsed": true
   },
   "outputs": [],
   "source": [
    "mystring.count("
   ]
  },
  {
   "cell_type": "markdown",
   "metadata": {},
   "source": [
    "### 2.3. Make your own types!\n",
    "\n",
    "It's easy to define your own types/classes in Python. Just use the ``class`` declaration.\n",
    "\n",
    "Let's create a ``Car`` class. The ``Car`` class will define what attributes and methods an instance of a car will have."
   ]
  },
  {
   "cell_type": "code",
   "execution_count": 43,
   "metadata": {
    "collapsed": false
   },
   "outputs": [],
   "source": [
    "class Car:\n",
    "    driver = None              # By default, there is no driver.\n",
    "    number_of_passengers = 0   # By default, the car is empty."
   ]
  },
  {
   "cell_type": "markdown",
   "metadata": {},
   "source": [
    "Let's unpack the code-block above.\n",
    "\n",
    "On the first line, I declare that I am about to define a new class (or type) called ``Car``.\n",
    "\n",
    "```python\n",
    "class Car:\n",
    "```\n",
    "\n",
    "I then define two **attributes**, and give them default values. When we create a new car, it will have these attributes, and those attributes will have the specified default values.\n",
    "\n",
    "```python\n",
    "driver = None              # By default, there is no driver.\n",
    "number_of_passengers = 0   # By default, the car is empty.\n",
    "```\n",
    "\n",
    "Let's try instantiating our ``Car`` class. In other words, let's create a new car."
   ]
  },
  {
   "cell_type": "code",
   "execution_count": 45,
   "metadata": {
    "collapsed": true
   },
   "outputs": [],
   "source": [
    "mycar = Car()"
   ]
  },
  {
   "cell_type": "markdown",
   "metadata": {},
   "source": [
    "Sure enough, ``mycar`` has an attribute called ``driver``, and another attribute called ``number_of_passengers``."
   ]
  },
  {
   "cell_type": "code",
   "execution_count": 46,
   "metadata": {
    "collapsed": false
   },
   "outputs": [
    {
     "name": "stdout",
     "output_type": "stream",
     "text": [
      "None\n",
      "0\n"
     ]
    }
   ],
   "source": [
    "print mycar.driver\n",
    "print mycar.number_of_passengers"
   ]
  },
  {
   "cell_type": "markdown",
   "metadata": {},
   "source": [
    "You can change an attribute just like you would change a variable."
   ]
  },
  {
   "cell_type": "code",
   "execution_count": 47,
   "metadata": {
    "collapsed": false
   },
   "outputs": [
    {
     "name": "stdout",
     "output_type": "stream",
     "text": [
      "John\n",
      "5\n"
     ]
    }
   ],
   "source": [
    "mycar.driver = 'John'\n",
    "mycar.number_of_passengers += 5    # += means \"increment by\" -- in this case, we add 5 to the current value.\n",
    "\n",
    "print mycar.driver\n",
    "print mycar.number_of_passengers"
   ]
  },
  {
   "cell_type": "markdown",
   "metadata": {},
   "source": [
    "Now let's give our ``Car`` class some methods. We'll redeclare the class, this time with methods."
   ]
  },
  {
   "cell_type": "code",
   "execution_count": 48,
   "metadata": {
    "collapsed": true
   },
   "outputs": [],
   "source": [
    "class Car:\n",
    "    driver = None              # By default, there is no driver.\n",
    "    number_of_passengers = 0   # By default, the car is empty.\n",
    "\n",
    "    def honk(self):\n",
    "        \"\"\"\n",
    "        What noise does a car make?\n",
    "        \"\"\"\n",
    "        print 'beep beep!'\n",
    "        \n",
    "    def count_passengers(self):\n",
    "        \"\"\"\n",
    "        Get the number of passengers in this car.\n",
    "        \"\"\"\n",
    "        return self.number_of_passengers"
   ]
  },
  {
   "cell_type": "markdown",
   "metadata": {},
   "source": [
    "This looks a lot like the function declarations that you saw earlier, but with two important differences:\n",
    "\n",
    "1. They are part of the class definition for ``Car``, so they are indented one extra level. \n",
    "2. Their first (and, in this case, only) parameter is something called ``self``. \n",
    "\n",
    "``self`` is how we refer to the instance of a class. When we create an instance of car, and then use that car instance's ``number_of_passengers`` method, the ``self`` in that function is the instance of the car that we're interacting with. \n",
    "\n",
    "So when I use the ``count_passengers`` method, and it returns ``self.number_of_passengers``, it is retrieving the ``number_of_passengers`` attribute from the current car instance."
   ]
  },
  {
   "cell_type": "code",
   "execution_count": 64,
   "metadata": {
    "collapsed": false
   },
   "outputs": [
    {
     "name": "stdout",
     "output_type": "stream",
     "text": [
      "5\n"
     ]
    }
   ],
   "source": [
    "mycar = Car()    # Putting the parens () after the class name instantiates the class.\n",
    "mycar.driver = 'John'\n",
    "mycar.number_of_passengers += 5\n",
    "\n",
    "print mycar.count_passengers()"
   ]
  },
  {
   "cell_type": "markdown",
   "metadata": {},
   "source": [
    "### 2.4. Changing the type of an object.\n",
    "\n",
    "Sometimes it makes sense to transform an instance/object of one type into an instance/object of another type. For example, suppose I have a string that contains the character \"5\". \n",
    "\n",
    "```python\n",
    "mystring = '5'\n",
    "```\n",
    "\n",
    "If I want to do math with that ``5`` (say, I want to add 3.4 to it), I'll run into trouble:"
   ]
  },
  {
   "cell_type": "code",
   "execution_count": 57,
   "metadata": {
    "collapsed": false
   },
   "outputs": [
    {
     "ename": "TypeError",
     "evalue": "cannot concatenate 'str' and 'float' objects",
     "output_type": "error",
     "traceback": [
      "\u001b[0;31m---------------------------------------------------------------------------\u001b[0m",
      "\u001b[0;31mTypeError\u001b[0m                                 Traceback (most recent call last)",
      "\u001b[0;32m<ipython-input-57-76778f9159ef>\u001b[0m in \u001b[0;36m<module>\u001b[0;34m()\u001b[0m\n\u001b[1;32m      1\u001b[0m \u001b[0mmystring\u001b[0m \u001b[0;34m=\u001b[0m \u001b[0;34m'5'\u001b[0m\u001b[0;34m\u001b[0m\u001b[0m\n\u001b[1;32m      2\u001b[0m \u001b[0;34m\u001b[0m\u001b[0m\n\u001b[0;32m----> 3\u001b[0;31m \u001b[0mmystring\u001b[0m \u001b[0;34m+\u001b[0m \u001b[0;36m3.4\u001b[0m\u001b[0;34m\u001b[0m\u001b[0m\n\u001b[0m",
      "\u001b[0;31mTypeError\u001b[0m: cannot concatenate 'str' and 'float' objects"
     ]
    }
   ],
   "source": [
    "mystring = '5'\n",
    "\n",
    "mystring + 3.4"
   ]
  },
  {
   "cell_type": "markdown",
   "metadata": {},
   "source": [
    "But all is not lost! If I transform it into an ``int`` first, I'm golden."
   ]
  },
  {
   "cell_type": "code",
   "execution_count": 61,
   "metadata": {
    "collapsed": false
   },
   "outputs": [
    {
     "name": "stdout",
     "output_type": "stream",
     "text": [
      "<type 'int'>\n",
      "8.4\n"
     ]
    }
   ],
   "source": [
    "print type(mystring)    # mystring is a str\n",
    "myint = int(mystring)   # But I can turn it into an int!\n",
    "\n",
    "print type(myint)       # Yup, it's an int.\n",
    "print myint + 3.4       # And now I can math!"
   ]
  },
  {
   "cell_type": "code",
   "execution_count": null,
   "metadata": {
    "collapsed": true
   },
   "outputs": [],
   "source": []
  }
 ],
 "metadata": {
  "kernelspec": {
   "display_name": "Python 2",
   "language": "python",
   "name": "python2"
  },
  "language_info": {
   "codemirror_mode": {
    "name": "ipython",
    "version": 2
   },
   "file_extension": ".py",
   "mimetype": "text/x-python",
   "name": "python",
   "nbconvert_exporter": "python",
   "pygments_lexer": "ipython2",
   "version": "2.7.9"
  }
 },
 "nbformat": 4,
 "nbformat_minor": 0
}
