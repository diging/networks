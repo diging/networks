{
 "cells": [
  {
   "cell_type": "markdown",
   "metadata": {},
   "source": [
    "# Programming for Network Research\n",
    "**[Erick Peirson, PhD](https://asu.academia.edu/ErickPeirson)** | erick.peirson@asu.edu | [@captbarberousse](https://twitter.com/captbarberousse)\n",
    "\n",
    "Last updated 20 January, 2016"
   ]
  },
  {
   "cell_type": "markdown",
   "metadata": {},
   "source": [
    "* [0. Introduction](0.%20Introduction.ipynb).\n",
    "* [1. First steps with Python](1.%20First%20steps%20with%20Python.ipynb).\n",
    "* [2. Objects and types](2.%20Objects%20and%20types.ipynb).\n",
    "* **[3. Flow control: if, elif, else, and friends.](3.%20Flow%20control.%20if%2C%20elif%2C%20else%2C%20and%20friends.ipynb)**\n",
    "* 4: Functions and functional programming.\n",
    "* 5: I/O: working with data! Numpy and Pandas.\n",
    "* 6: Our first tabular graph. Layout and visualization in Cytoscape.\n",
    "* 7: Intro to NetworkX. GraphML. Advanced visualization in Cytoscape.\n",
    "* 8: Blockmodels in NetworkX.\n",
    "* 9: Properties of graphs: whole-graph statistics in NetworkX and Cytoscape.\n",
    "* 10: Properties of nodes: centrality statistics.\n",
    "* 11: ..."
   ]
  },
  {
   "cell_type": "code",
   "execution_count": 1,
   "metadata": {
    "collapsed": true
   },
   "outputs": [],
   "source": [
    "import random    # Ignore me for now!"
   ]
  },
  {
   "cell_type": "markdown",
   "metadata": {},
   "source": [
    "## 3. Flow control: if, elif, else, and friends.\n",
    "\n",
    "In most real-life programming situations, you'll need to do more than a linear set of procedures. Your programs will need to be able to make decisions based on a range of possible conditions. In this notebook we'll talk about how to perform logical operations.\n",
    "\n",
    "### 3.1. ``if`` and ``else``\n",
    "\n",
    "The simplest form of decision-making in Python is dichotomous: if some condition is true, then do something; otherwise, do something else. If the weather is nice, then I'll wear sandals; otherwise, I'll wear shoes. If Moe and Curly win the election, I'll move to Norway; otherwise, I'll stay in New York. Notice the pattern: if...then...otherwise. In Python, we can write those kind of instructions almost as I've written the sentences above, using the statements ``if`` and ``else``."
   ]
  },
  {
   "cell_type": "code",
   "execution_count": 9,
   "metadata": {
    "collapsed": false
   },
   "outputs": [
    {
     "name": "stdout",
     "output_type": "stream",
     "text": [
      ":-(\n"
     ]
    }
   ],
   "source": [
    "x = random.random() # This generates a random float between 0. and 1.\n",
    "\n",
    "if x < 1./292000000:    # That there's some pretty low odss.\n",
    "    print 'I won the powerball!'\n",
    "else:\n",
    "    print ':-('"
   ]
  },
  {
   "cell_type": "markdown",
   "metadata": {},
   "source": [
    "``if`` says, \"if the following statement is True\\*, then do the following...\". Don't foget the colon (:) afterwards, too. The part after the ``if`` statement, ``print 'I won....``, is indented, so that Python knows which part should be conditionally executed. \n",
    "\n",
    "``else`` says, \"otherwise, do this...\". Don't forget the colon! ``else`` is at the same level of indentation as the ``if`` statement, so that Python knows they go together. The part afterward, ``print ':-('``, is indented, so that Python knows it's the part of the code that will get run in the \"otherwise\" case.\n",
    "\n",
    "\\* *In Python, the statement need only by \"truthy\" to be considered True. That is, it could be True, not 0 (or 0.0), or not an empty string.*\n",
    "\n",
    "There are all kinds of comparative operators. For a complete list, see [this page](https://docs.python.org/2/reference/expressions.html#not-in). \n",
    "\n",
    "Here's an example of how to check whether or not a particular item is contained within a list. Say, for example, that I have a list of invitees for a super-secret-underground LAN party, and I want to know if my friend is on the list."
   ]
  },
  {
   "cell_type": "code",
   "execution_count": 15,
   "metadata": {
    "collapsed": false
   },
   "outputs": [
    {
     "name": "stdout",
     "output_type": "stream",
     "text": [
      "l4me\n"
     ]
    }
   ],
   "source": [
    "invitees = ['Jack', 'Jane', 'Jim', 'Jill', 'Joseph', 'Jay', 'Josephus']\n",
    "myfriend = 'Greg'\n",
    "\n",
    "if myfriend in invitees:\n",
    "    print 'w00t!'\n",
    "else:\n",
    "    print 'l4me'"
   ]
  },
  {
   "cell_type": "markdown",
   "metadata": {},
   "source": [
    "If I were to win the Powerball AND my friend could come to the LAN party, it would be a pretty great day. I can check for both of those things in one statement, using the ``and`` operator."
   ]
  },
  {
   "cell_type": "code",
   "execution_count": 16,
   "metadata": {
    "collapsed": false
   },
   "outputs": [
    {
     "name": "stdout",
     "output_type": "stream",
     "text": [
      "meh.\n"
     ]
    }
   ],
   "source": [
    "x = random.random()    # Come on, lucky numbers!\n",
    "\n",
    "if myfriend in invitees and x < 1./292000000:\n",
    "    print 'Best day ever!'\n",
    "else:\n",
    "    print 'meh.'"
   ]
  },
  {
   "cell_type": "markdown",
   "metadata": {},
   "source": [
    "Right, pretty unlucky. But I could get over my disappointment if I saw a puppy. So I'll throw in an ``or`` operator."
   ]
  },
  {
   "cell_type": "code",
   "execution_count": 17,
   "metadata": {
    "collapsed": false
   },
   "outputs": [
    {
     "name": "stdout",
     "output_type": "stream",
     "text": [
      "This was much more likely, and I've adjusted my expectations.\n"
     ]
    }
   ],
   "source": [
    "x = random.random()    # I gamble for the thrill.\n",
    "is_there_a_puppy = True\n",
    "\n",
    "if (myfriend in invitees and x < 1./292000000) or is_there_a_puppy:\n",
    "    print \"This was much more likely, and I've adjusted my expectations.\"\n",
    "else:\n",
    "    print ':-|'"
   ]
  },
  {
   "cell_type": "markdown",
   "metadata": {},
   "source": [
    "Notice that I threw in some parentheses to group my evaluations. In the example above, the statement \n",
    "\n",
    "```python\n",
    "if (myfriend in invitees and x < 1./292000000) or is_there_a_puppy:\n",
    "```\n",
    "\n",
    "evaluates as \n",
    "\n",
    "```python\n",
    "if (False and False) or True:\n",
    "```\n",
    "\n",
    "which gets further simplified to\n",
    "\n",
    "```python\n",
    "if False or True:\n",
    "```\n",
    "\n",
    "which is just\n",
    "\n",
    "```python\n",
    "if True:\n",
    "```"
   ]
  },
  {
   "cell_type": "markdown",
   "metadata": {},
   "source": [
    "### 3.2. ``elif``\n",
    "\n",
    "Quite often I want to make a decision that has more than two potential outcomes. Sure, if it's sunny outside I'm down for sandals, otherwise I'd rather wear shoes. But if it's a blizzard, I'm going for snow boots. Consider the ``elif`` operator (short for \"else if\"):"
   ]
  },
  {
   "cell_type": "code",
   "execution_count": 20,
   "metadata": {
    "collapsed": false
   },
   "outputs": [
    {
     "name": "stdout",
     "output_type": "stream",
     "text": [
      "snow boots\n"
     ]
    }
   ],
   "source": [
    "weather = 'blizzard'\n",
    "footwear = None    # I know that I'm wearing something, but I'm not sure what yet.\n",
    "\n",
    "if weather == 'sunny':      # ``==`` means \"equal to\".\n",
    "    footwear = 'sandals'    # ``=`` means \"assign the expression on the right to the variable on the left.\"\n",
    "elif weather == 'blizzard':\n",
    "    footwear = 'snow boots'\n",
    "else:\n",
    "    footwear = 'shoes'\n",
    "    \n",
    "print footwear"
   ]
  },
  {
   "cell_type": "markdown",
   "metadata": {},
   "source": [
    "You can use as many ``elif``s as you like!"
   ]
  },
  {
   "cell_type": "code",
   "execution_count": 21,
   "metadata": {
    "collapsed": false
   },
   "outputs": [
    {
     "name": "stdout",
     "output_type": "stream",
     "text": [
      "run away!\n"
     ]
    }
   ],
   "source": [
    "weather = 'cows'\n",
    "footwear = None\n",
    "\n",
    "if weather == 'sunny':\n",
    "    footwear = 'sandals'\n",
    "elif weather == 'blizzard':\n",
    "    footwear = 'snow boots'\n",
    "elif weather == 'rain':\n",
    "    footwear = 'galoshes'\n",
    "elif weather == 'cows':\n",
    "    footwear = 'run away!'\n",
    "else:\n",
    "    footwear = 'shoes'\n",
    "    \n",
    "print footwear"
   ]
  },
  {
   "cell_type": "markdown",
   "metadata": {},
   "source": [
    "### 3.3. Doing things over and over and over.\n",
    "\n",
    "Sure, my chances of winning the powerball are pretty low for any given draw. The real trick is to play all the time! SOMEONE has to win, right?\n",
    "\n",
    "This kind of repetitive task calls for a loop. A loop is a control structure in which we do some series of operations repeatedly until some condition is met.\n",
    "\n",
    "For example, suppose that I have saved up for years and years and now have around $100,000 that I want to gamble away--- er, invest, in the Powerball."
   ]
  },
  {
   "cell_type": "code",
   "execution_count": 49,
   "metadata": {
    "collapsed": false
   },
   "outputs": [],
   "source": [
    "my_life_savings = 100000\n",
    "\n",
    "while my_life_savings > 0:    # While I still have money in the bank,\n",
    "    my_life_savings -= 1      # ``-=`` means \"subtract one and store the result in the same variable.\"\n",
    "                              #  This is the same as writing: my_life_savings = my_life_savings - 1\n",
    "    \n",
    "    x = random.random()       # Wooo!\n",
    "    if x < 1./292000000:\n",
    "        print 'JACKPOT!!'\n",
    "        break"
   ]
  },
  {
   "cell_type": "markdown",
   "metadata": {},
   "source": [
    "The statement...\n",
    "\n",
    "```python\n",
    "while ...:\n",
    "```\n",
    "\n",
    "says: \"as long as the following statement (...) is True, do the following thing over and over and over. Unsurprisingly, this is called a \"while\" loop. In the example above, we decrement (subtract 1) from our life savings every iteration, and stop when there is no money left (``my_life_savings <= 0``).\n",
    "\n",
    "Now, in the extremely unlikely case that I win the Powerball, there's really no incentive to keep playing. In that case, I want to stop the loop prematurely. To do that, I use the command ``break``. ``break`` will stop the iteration at that very moment.\n",
    "\n",
    "**WARNING WARNING WARNING**: avoid endless loops! If you use a ``while`` loop, make sure that the condition for the loop (the part that gets evaluated each iteration) will become ``False`` in some reasonable duration of time. Consider what would happen if I removed the line that decremented my life savings (``my_life_savings -= 1``): we'd go on playing the powerball forever! If you do start an endless loop by accident, use the square \"stop\" button (or select Kernel > Interrupt) in the menu at the top of the notebook.\n",
    "\n",
    "Here's another case: suppose I have a bunch of measurements about how often individual ants in a colony of *Pogonomyrmex barbatus* interact with each other. \n",
    "\n",
    "![](http://www.asknature.org/uploads/strategy/900505c787a363fd59ee3bbdfd1fb9b5/462e2b4c2c116075fc969d25172e60a4.jpg)\n",
    "\n",
    "I sat there with my little notebook for twenty minutes, and counted the number of times each pair of ants touched antennae. Now I have a list of interaction counts, one entry per pair of ants. It's a small colony, only 4 ants, so there are only $4! = 24$ entries."
   ]
  },
  {
   "cell_type": "code",
   "execution_count": 55,
   "metadata": {
    "collapsed": false
   },
   "outputs": [],
   "source": [
    "interactions = [40,  44,  5,  26,  4,  47,  41,  41,  29,  5,  49,  32,    # You can write a list over multiple lines, \n",
    "                31,  6,  13,  13,  38,  42,  35,  34,  49,  43,  23,  21]  # just be sure to end the line with a comma."
   ]
  },
  {
   "cell_type": "markdown",
   "metadata": {},
   "source": [
    "Now I need to turn those interaction counts into interaction rates, expressed in interactions per minute. I can iterate over the list of interaction counts, perform my math, and store the result in a new list. **Notice**: my counts are ``int``s, so in order to get a precise result during division I'll need to coerce them into ``float``s."
   ]
  },
  {
   "cell_type": "code",
   "execution_count": 58,
   "metadata": {
    "collapsed": false
   },
   "outputs": [
    {
     "name": "stdout",
     "output_type": "stream",
     "text": [
      "[2.0, 2.2, 0.25, 1.3, 0.2, 2.35, 2.05, 2.05, 1.45, 0.25, 2.45, 1.6, 1.55, 0.3, 0.65, 0.65, 1.9, 2.1, 1.75, 1.7, 2.45, 2.15, 1.15, 1.05]\n"
     ]
    }
   ],
   "source": [
    "interaction_frequencies = []    # Make a new, empty list.\n",
    "for count in interactions:      # Each iteration, I get the next item, and I refer to it as ``value``.\n",
    "    frequency = float(count)/20.    # Interactions per minute.\n",
    "    interaction_frequencies.append(frequency)    # ``append()`` adds the value to the end of the list.\n",
    "    \n",
    "print interaction_frequencies"
   ]
  },
  {
   "cell_type": "markdown",
   "metadata": {},
   "source": [
    "This is called a **``for`` loop** (bet you didn't see that coming). Unlike a ``while`` loop, which relies on a logical evaluation of some kind, ``for`` loops require something to iterate over. We call the thing that we're iterating over the **iterator**. A list is an iterator: it contains a bunch of elements, and I can get them one at a time."
   ]
  },
  {
   "cell_type": "code",
   "execution_count": 63,
   "metadata": {
    "collapsed": false
   },
   "outputs": [
    {
     "name": "stdout",
     "output_type": "stream",
     "text": [
      "0\n",
      "1\n",
      "2\n",
      "3\n",
      "4\n",
      "5\n"
     ]
    }
   ],
   "source": [
    "for number in [0, 1, 2, 3, 4, 5]:\n",
    "    print number"
   ]
  },
  {
   "cell_type": "markdown",
   "metadata": {},
   "source": [
    "Strings are also iterators! I can get one character at a time:"
   ]
  },
  {
   "cell_type": "code",
   "execution_count": 64,
   "metadata": {
    "collapsed": false
   },
   "outputs": [
    {
     "name": "stdout",
     "output_type": "stream",
     "text": [
      "t\n",
      "h\n",
      "i\n",
      "s\n",
      " \n",
      "s\n",
      "t\n",
      "r\n",
      "i\n",
      "n\n",
      "g\n"
     ]
    }
   ],
   "source": [
    "for character in 'this string':\n",
    "    print character"
   ]
  },
  {
   "cell_type": "markdown",
   "metadata": {},
   "source": [
    "Frequently you will need to perform a task some specific number of times, but not necessarily because you have an iterator of a particular size. For example, suppose I want to calculate $6!$. I know that I will need to perform four multiplication steps ($6*5*4*3*2$). I can use the function ``xrange`` to create an iterator over a specified range of integers. For example:"
   ]
  },
  {
   "cell_type": "code",
   "execution_count": 66,
   "metadata": {
    "collapsed": false
   },
   "outputs": [
    {
     "name": "stdout",
     "output_type": "stream",
     "text": [
      "494318674080\n"
     ]
    }
   ],
   "source": [
    "factorial = 6\n",
    "\n",
    "for i in xrange(1, factorial - 1):    # Yields the ints 1, 2, 3, and 4.\n",
    "    # ``*=`` means \"Multiply this value by the value on the right, and store the result in the same variable.\n",
    "    factorial *= factorial - i    # The same as: factorial = factorial * (factorial - i)\n",
    "    \n",
    "print factorial"
   ]
  },
  {
   "cell_type": "code",
   "execution_count": null,
   "metadata": {
    "collapsed": true
   },
   "outputs": [],
   "source": []
  }
 ],
 "metadata": {
  "kernelspec": {
   "display_name": "Python 2",
   "language": "python",
   "name": "python2"
  },
  "language_info": {
   "codemirror_mode": {
    "name": "ipython",
    "version": 2
   },
   "file_extension": ".py",
   "mimetype": "text/x-python",
   "name": "python",
   "nbconvert_exporter": "python",
   "pygments_lexer": "ipython2",
   "version": "2.7.9"
  }
 },
 "nbformat": 4,
 "nbformat_minor": 0
}
