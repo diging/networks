{
 "cells": [
  {
   "cell_type": "markdown",
   "metadata": {},
   "source": [
    "# Programming for Network Research\n",
    "**[Erick Peirson, PhD](https://asu.academia.edu/ErickPeirson)** | erick.peirson@asu.edu | [@captbarberousse](https://twitter.com/captbarberousse)\n",
    "\n",
    "Last updated 20 January, 2016"
   ]
  },
  {
   "cell_type": "markdown",
   "metadata": {
    "collapsed": true
   },
   "source": [
    "## 0. Introduction\n",
    "\n",
    "This notebook series provides an introduction to programming for network research using the [Python programming language](https://www.python.org/).\n",
    "\n",
    "Network models have become a ubiquitous component of quantitative research in the sciences and humanities. Many research problems in the area of complexity science are framed in terms of networks, since network models provide tractable ways of reasoning about complex systems. The purpose of this series is to equip scholars with no prior programming experience with tools and techniques for analyzing networks in a computational framework.\n",
    "\n",
    "The Python programming language has become extremely popular for data science due to its relatively high level of abstraction, and the availability of powerful scientific and numerical packages.\n",
    "\n",
    "The early sections of this series will deal with the basics of any introduction to programming course: variables, data types, logical operators, flow control, and functions. We will then move quickly into using numerical and scientific packages like [NumPy](http://www.numpy.org/), [SciPy](http://www.scipy.org/), and [Pandas](http://pandas.pydata.org/). Once we have a good command of general data manipulation in Python, we will explore network analysis packages like [NetworkX](networkx.github.io), [igraph](http://igraph.org/redirect.html), and [graphtool](https://graph-tool.skewed.de/). Along the way, we'll also employ external network analysis and visualization software like [Cytoscape](http://cytoscape.org/) and [Gephi](https://gephi.org/)."
   ]
  },
  {
   "cell_type": "markdown",
   "metadata": {},
   "source": [
    "### 0.1. How to use these notebooks.\n",
    "\n",
    "This is an [interactive Python notebook](http://ipython.org/). Most of the content is just marked-down text, like this paragraph, that provides expository on some concept or technique. Some of the cells are \"code\" cells, which look like this:"
   ]
  },
  {
   "cell_type": "code",
   "execution_count": 1,
   "metadata": {
    "collapsed": false
   },
   "outputs": [
    {
     "name": "stdout",
     "output_type": "stream",
     "text": [
      "This is a code cell!\n"
     ]
    }
   ],
   "source": [
    "print \"This is a code cell!\""
   ]
  },
  {
   "cell_type": "markdown",
   "metadata": {},
   "source": [
    "You can execute the code in a code cell by clicking on it and pressing Shift-Enter on your keyboard, or by clicking the right-arrow \"Run\" button in the toolbar at the top of the page. The cell below will automatically be selected, so you can run many cells in quick succession by repeatedly pressing Shift-Enter (or the \"Run\" button). It's a good idea to run all of the code cells in order, from the top of the tutorial, since many commands later in the tutorial will depend on earlier ones.\n",
    "\n",
    "If you're viewing a rendered static version of this notebook (e.g. via the Github website, or [nbviewer](http://nbviewer.jupyter.org/)), you'll need to acquire clone the repository at https://github.com/diging/networks. For an introduction to using the IPython notebook platform, see the [IPython documentation](https://ipython.org/ipython-doc/3/notebook/index.html).\n",
    "\n",
    "As we work through the notebook, you'll have plenty of opportunities to manipulate code, and insert new code of your own. You should experiment and play! Try changing values and parameters, and re-run the code-cell to see the result. That's what's great about iPython notebooks: you can play around with specific chunks of code without having to re-run the entire script."
   ]
  },
  {
   "cell_type": "markdown",
   "metadata": {},
   "source": [
    "### 0.2. How to get help.\n",
    "\n",
    "If you run into trouble, or simply have questions, please feel free to submit an [issue on the Github repository for this course](https://github.com/diging/networks/issues). I'll respond as quickly as I can!"
   ]
  },
  {
   "cell_type": "markdown",
   "metadata": {},
   "source": [
    "### 0.3. License.\n",
    "\n",
    "The notebooks in this series are made available under the GNU General Public License v3.0. For the full text of the license, please see the [LICENSE](https://github.com/diging/networks/blob/master/LICENSE) file in the root directory of this repository.\n",
    "\n",
    "![](assets/images/gpl.png)"
   ]
  },
  {
   "cell_type": "markdown",
   "metadata": {},
   "source": [
    "### 0.4. Table of Contents\n",
    "\n",
    "This table will be updated as new notebooks are added.\n",
    "\n",
    "* **0: [Introduction](0.%20Introduction.ipynb).**\n",
    "* 1: First steps with Python.\n",
    "* 2: Objects and types.\n",
    "* 3: Flow control: if, elif, else, and friends.\n",
    "* 4: Functions and functional programming.\n",
    "* 5: I/O: working with data! Numpy and Pandas.\n",
    "* 6: Our first tabular graph. Layout and visualization in Cytoscape.\n",
    "* 7: Intro to NetworkX. GraphML. Advanced visualization in Cytoscape.\n",
    "* 8: Blockmodels in NetworkX.\n",
    "* 9: Properties of graphs: whole-graph statistics in NetworkX and Cytoscape.\n",
    "* 10: Properties of nodes: centrality statistics.\n",
    "* 11: ..."
   ]
  },
  {
   "cell_type": "code",
   "execution_count": null,
   "metadata": {
    "collapsed": true
   },
   "outputs": [],
   "source": []
  }
 ],
 "metadata": {
  "kernelspec": {
   "display_name": "Python 2",
   "language": "python",
   "name": "python2"
  },
  "language_info": {
   "codemirror_mode": {
    "name": "ipython",
    "version": 2
   },
   "file_extension": ".py",
   "mimetype": "text/x-python",
   "name": "python",
   "nbconvert_exporter": "python",
   "pygments_lexer": "ipython2",
   "version": "2.7.9"
  }
 },
 "nbformat": 4,
 "nbformat_minor": 0
}
