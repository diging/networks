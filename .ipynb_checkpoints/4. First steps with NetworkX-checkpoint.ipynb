{
 "cells": [
  {
   "cell_type": "code",
   "execution_count": 51,
   "metadata": {
    "collapsed": false
   },
   "outputs": [
    {
     "name": "stdout",
     "output_type": "stream",
     "text": [
      "Populating the interactive namespace from numpy and matplotlib\n"
     ]
    }
   ],
   "source": [
    "%pylab inline"
   ]
  },
  {
   "cell_type": "markdown",
   "metadata": {},
   "source": [
    "# Programming for Network Research\n",
    "**[Erick Peirson, PhD](https://asu.academia.edu/ErickPeirson)** | erick.peirson@asu.edu | [@captbarberousse](https://twitter.com/captbarberousse)\n",
    "\n",
    "Last updated 1 February, 2016"
   ]
  },
  {
   "cell_type": "markdown",
   "metadata": {},
   "source": [
    "* [0. Introduction](0.%20Introduction.ipynb).\n",
    "* [1. First steps with Python](1.%20First%20steps%20with%20Python.ipynb).\n",
    "* [2. Objects and types](2.%20Objects%20and%20types.ipynb).\n",
    "* [3. Flow control: if, elif, else, and friends.](3.%20Flow%20control.%20if%2C%20elif%2C%20else%2C%20and%20friends.ipynb)\n",
    "* **[4. First steps with NetworkX.](4.%20First%20steps%20with%20NetworkX.ipynb)**\n",
    "* 5: I/O: working with data! Numpy and Pandas.\n",
    "* 6: Our first tabular graph. Layout and visualization in Cytoscape.\n",
    "* 7: Intro to NetworkX. GraphML. Advanced visualization in Cytoscape.\n",
    "* 8: Blockmodels in NetworkX.\n",
    "* 9: Properties of graphs: whole-graph statistics in NetworkX and Cytoscape.\n",
    "* 10: Properties of nodes: centrality statistics.\n",
    "* 11: ..."
   ]
  },
  {
   "cell_type": "markdown",
   "metadata": {},
   "source": [
    "## 4. First steps with NetworkX\n",
    "\n",
    "Many intro to programming tutorials spend a bunch of time covering the basics thoroughly, and wait until the very end for the fun stuff. In this course, we're going to brazenly eat our dessert first. It's far more interesting this way, and you'll learn a lot of the \"basics\" that we're \"skipping\" along the way.\n",
    "\n",
    "In earlier exercises, you created a ``Graph`` class that could represent a network dataset. It turns out that smart people have already spent quite a bit of time on this problem, and have created a Python package called [NetworkX](http://networkx.github.io/). NetworkX provides ways to **represent** graphs, **analyze** those graphs, and **serialize** them for visualization and sharing.\n",
    "\n",
    "In this notebook, we'll start using NetworkX to do some simple graph manipulation, and maybe even some light-tough analysis. Along the way, we'll talk about **importing** packages, namespaces, and **dictionaries**, too."
   ]
  },
  {
   "cell_type": "markdown",
   "metadata": {},
   "source": [
    "### 4.1. Importing NetworkX\n",
    "\n",
    "Python has lots of useful [built-in functions](https://docs.python.org/2/library/functions.html), but for projects of even minimal complexity there's a good chance that you'll need some additional functionality. The functions and other goodies available in Python can be almost infinitely extended through the use of **packages**. \n",
    "\n",
    "A package is a bundle of classes and/or functions that provide additional functionality (for lack of a better word). For example, the [**``os``** package](https://docs.python.org/2/library/os.html) provides functions for interacting with your computer's operating system. The [**``re``** package](https://docs.python.org/2/library/re.html) provides tools for working with regular expressions. The [**``tethne``** package](http://diging.github.io/tethne/) provides tools for parsing and analyzing bibliographic metadata. And so on.\n",
    "\n",
    "The vast majority of packages are built and maintained by people just like us: programmers who need to solve complex problems, and want to share their solutions with other programmers. Anyone can publish a new package in the [Python Package Index](https://pypi.python.org/pypi).\n",
    "\n",
    "To install a package from the Python Package Index, use the ``pip`` command in your terminal. For example, to install ``NetworkX``, you should do:\n",
    "\n",
    "```shell\n",
    "$ pip install networkx\n",
    "```\n",
    "\n",
    "If you're using [Anaconda](https://www.continuum.io/why-anaconda), NetworkX will already be installed.\n",
    "\n",
    "In order to use a package, you must first **``import``** it."
   ]
  },
  {
   "cell_type": "code",
   "execution_count": 1,
   "metadata": {
    "collapsed": true
   },
   "outputs": [],
   "source": [
    "import networkx"
   ]
  },
  {
   "cell_type": "markdown",
   "metadata": {},
   "source": [
    "The ``import`` command tells Python to look for a package, and load it. This will create a ``module`` object by the same name."
   ]
  },
  {
   "cell_type": "code",
   "execution_count": 2,
   "metadata": {
    "collapsed": false
   },
   "outputs": [
    {
     "data": {
      "text/plain": [
       "<module 'networkx' from '/Users/erickpeirson/anaconda/lib/python2.7/site-packages/networkx/__init__.pyc'>"
      ]
     },
     "execution_count": 2,
     "metadata": {},
     "output_type": "execute_result"
    }
   ],
   "source": [
    "networkx"
   ]
  },
  {
   "cell_type": "markdown",
   "metadata": {},
   "source": [
    "The developers of NetworkX recommend that you import their package under a slightly shorter name, presumably to make your code more readable. You can import a package under an alternate name using the ``as`` directive:"
   ]
  },
  {
   "cell_type": "code",
   "execution_count": 3,
   "metadata": {
    "collapsed": true
   },
   "outputs": [],
   "source": [
    "import networkx as nx"
   ]
  },
  {
   "cell_type": "markdown",
   "metadata": {},
   "source": [
    "The line above tells Python to import NetworkX, but that you want to call it ``nx`` instead of ``networkx``. Now we have an object called ``nx``:"
   ]
  },
  {
   "cell_type": "code",
   "execution_count": 4,
   "metadata": {
    "collapsed": false
   },
   "outputs": [
    {
     "data": {
      "text/plain": [
       "<module 'networkx' from '/Users/erickpeirson/anaconda/lib/python2.7/site-packages/networkx/__init__.pyc'>"
      ]
     },
     "execution_count": 4,
     "metadata": {},
     "output_type": "execute_result"
    }
   ],
   "source": [
    "nx"
   ]
  },
  {
   "cell_type": "markdown",
   "metadata": {},
   "source": [
    "### 4.2. Graphs\n",
    "\n",
    "NetworkX provides several classes that you can use to represent graphs. The simplest of these is the [``Graph`` class](https://networkx.readthedocs.org/en/stable/reference/classes.graph.html). To instantiate a class that is provided by a package, we write the name of the package (``nx``) followed by a dot (``.``), and then the name of the class. To instantiate a NetworkX ``Graph``, for example, we would write:"
   ]
  },
  {
   "cell_type": "code",
   "execution_count": 98,
   "metadata": {
    "collapsed": true
   },
   "outputs": [],
   "source": [
    "myGraph = nx.Graph()    # Instantiates a new Graph."
   ]
  },
  {
   "cell_type": "markdown",
   "metadata": {},
   "source": [
    "To add nodes to the graph, we can use the ``add_node()`` method."
   ]
  },
  {
   "cell_type": "code",
   "execution_count": 99,
   "metadata": {
    "collapsed": true
   },
   "outputs": [],
   "source": [
    "myGraph.add_node(0)\n",
    "myGraph.add_node('Frank')\n",
    "myGraph.add_node(4.1)\n",
    "myGraph.add_node('Grrr')"
   ]
  },
  {
   "cell_type": "markdown",
   "metadata": {},
   "source": [
    "In the code-cell above, we added four nodes to the graph. In previous exercises, you were asked to define ``Node`` and ``Edge`` classes. In NetworkX, any kind of object can be a node. \n",
    "\n",
    "To see a list of all nodes in the graph, we can use the ``nodes()`` method."
   ]
  },
  {
   "cell_type": "code",
   "execution_count": 100,
   "metadata": {
    "collapsed": false
   },
   "outputs": [
    {
     "data": {
      "text/plain": [
       "[0, 'Frank', 'Grrr', 4.1]"
      ]
     },
     "execution_count": 100,
     "metadata": {},
     "output_type": "execute_result"
    }
   ],
   "source": [
    "myGraph.nodes()    # Lists all nodes."
   ]
  },
  {
   "cell_type": "markdown",
   "metadata": {},
   "source": [
    "To add edges to the graph (links between nodes), we use the ``add_edge()`` method. ``add_edge`` requires two arguments: the source node, and the target node."
   ]
  },
  {
   "cell_type": "code",
   "execution_count": 107,
   "metadata": {
    "collapsed": true
   },
   "outputs": [],
   "source": [
    "myGraph.add_edge(0, 'Frank')\n",
    "myGraph.add_edge(0, 4.1)\n",
    "myGraph.add_edge(4.1, 'Frank')\n",
    "myGraph.add_edge(4.1, 'Grrr')\n",
    "myGraph.add_edge(0, 'Grrr')"
   ]
  },
  {
   "cell_type": "markdown",
   "metadata": {},
   "source": [
    "In the code-cell above, we added five edges: one from ``0`` to ``'Frank'``, another from ``0`` to ``4.1``, a third from ``4.1`` to ``'Frank'``, a fourth from ``4.1`` to ``'Grrr'``, and a fifth from ``0`` to ``'Grrr'``.\n",
    "\n",
    "**Note:** in NetworkX, a ``Graph`` is undirected. That means that an edge between two nodes represent a **symmetric** relationship. For example, if ``a`` is a friend of ``b``, then it is also true that ``b`` is a friend of ``a``. To represent **asymmetric** or **directional** relationships, we need to use a ``DiGraph`` (directed graph).\n",
    "\n",
    "We can use the ``edges()`` method to list all of the edges in the graph."
   ]
  },
  {
   "cell_type": "code",
   "execution_count": 108,
   "metadata": {
    "collapsed": false
   },
   "outputs": [
    {
     "data": {
      "text/plain": [
       "[(0, 'Frank'), (0, 'Grrr'), (0, 4.1), ('Frank', 4.1), ('Grrr', 4.1)]"
      ]
     },
     "execution_count": 108,
     "metadata": {},
     "output_type": "execute_result"
    }
   ],
   "source": [
    "myGraph.edges()"
   ]
  },
  {
   "cell_type": "markdown",
   "metadata": {},
   "source": [
    "I can visualize my simple graph using the ``draw_networkx()`` function."
   ]
  },
  {
   "cell_type": "code",
   "execution_count": 109,
   "metadata": {
    "collapsed": false
   },
   "outputs": [
    {
     "data": {
      "image/png": "[encoded data removed]",
      "text/plain": [
       "<matplotlib.figure.Figure at 0x107ba5290>"
      ]
     },
     "metadata": {},
     "output_type": "display_data"
    }
   ],
   "source": [
    "nx.draw_networkx(myGraph)"
   ]
  },
  {
   "cell_type": "markdown",
   "metadata": {},
   "source": [
    "The ``size`` of my graph is the number of edges; the ``order`` is the number of nodes:"
   ]
  },
  {
   "cell_type": "code",
   "execution_count": 110,
   "metadata": {
    "collapsed": false
   },
   "outputs": [
    {
     "data": {
      "text/plain": [
       "5"
      ]
     },
     "execution_count": 110,
     "metadata": {},
     "output_type": "execute_result"
    }
   ],
   "source": [
    "myGraph.size()    # Number of edges?"
   ]
  },
  {
   "cell_type": "code",
   "execution_count": 111,
   "metadata": {
    "collapsed": false
   },
   "outputs": [
    {
     "data": {
      "text/plain": [
       "4"
      ]
     },
     "execution_count": 111,
     "metadata": {},
     "output_type": "execute_result"
    }
   ],
   "source": [
    "myGraph.order()    # Number of nodes?"
   ]
  },
  {
   "cell_type": "markdown",
   "metadata": {},
   "source": [
    "#### An aside: ``tuple``s!"
   ]
  },
  {
   "cell_type": "markdown",
   "metadata": {},
   "source": [
    "The output of ``edges()`` might look a bit unfamiliar. You can see that the method returned a list, denoted by the square brackets ``[]``. But each item in the list is actually **two** items, surrounded by parentheses. For example, ``(0, 'Frank')``. This is called a ``tuple``. \n",
    "\n",
    "A ``tuple`` is pretty similar to a ``list``. It holds a sequence of items, just like a list. I can create a tuple just like I do a list, except that I use parentheses instead of square brackets:"
   ]
  },
  {
   "cell_type": "code",
   "execution_count": 10,
   "metadata": {
    "collapsed": false
   },
   "outputs": [
    {
     "data": {
      "text/plain": [
       "(0, 1, 2)"
      ]
     },
     "execution_count": 10,
     "metadata": {},
     "output_type": "execute_result"
    }
   ],
   "source": [
    "(0, 1, 2)"
   ]
  },
  {
   "cell_type": "markdown",
   "metadata": {},
   "source": [
    "Just like a list, ``tuple``s can be any length. We call a ``tuple`` with two items a \"two-tuple\", and one with three items a \"three-tuple\", etc.\n",
    "\n",
    "The **really big difference** between ``tuple``s and ``list``s is this: a ``list`` can be changed, whereas a ``tuple`` cannot.\n",
    "\n",
    "That might seem a bit hard to process, so let's break it down. Suppose I create some new ``list`` object, which I'll call ``myList``."
   ]
  },
  {
   "cell_type": "code",
   "execution_count": 32,
   "metadata": {
    "collapsed": true
   },
   "outputs": [],
   "source": [
    "myList = ['a', 'b', 'c', 1, 2]"
   ]
  },
  {
   "cell_type": "markdown",
   "metadata": {},
   "source": [
    "We can get the address of our ``list`` object in memory using the ``id()`` function."
   ]
  },
  {
   "cell_type": "code",
   "execution_count": 33,
   "metadata": {
    "collapsed": false
   },
   "outputs": [
    {
     "data": {
      "text/plain": [
       "4400548752"
      ]
     },
     "execution_count": 33,
     "metadata": {},
     "output_type": "execute_result"
    }
   ],
   "source": [
    "id(myList)"
   ]
  },
  {
   "cell_type": "markdown",
   "metadata": {},
   "source": [
    "Now that I've created my ``list``, I see that I forgot to add an item to the end. I can ``append`` an item to the ``list`` like so:"
   ]
  },
  {
   "cell_type": "code",
   "execution_count": 34,
   "metadata": {
    "collapsed": true
   },
   "outputs": [],
   "source": [
    "myList.append(3)"
   ]
  },
  {
   "cell_type": "code",
   "execution_count": 35,
   "metadata": {
    "collapsed": false
   },
   "outputs": [
    {
     "data": {
      "text/plain": [
       "['a', 'b', 'c', 1, 2, 3]"
      ]
     },
     "execution_count": 35,
     "metadata": {},
     "output_type": "execute_result"
    }
   ],
   "source": [
    "myList"
   ]
  },
  {
   "cell_type": "markdown",
   "metadata": {},
   "source": [
    "Voila! Much better. I have appended to the ``list``."
   ]
  },
  {
   "cell_type": "markdown",
   "metadata": {},
   "source": [
    "Let's check the memory address of our ``list`` object again."
   ]
  },
  {
   "cell_type": "code",
   "execution_count": 36,
   "metadata": {
    "collapsed": false
   },
   "outputs": [
    {
     "data": {
      "text/plain": [
       "4400548752"
      ]
     },
     "execution_count": 36,
     "metadata": {},
     "output_type": "execute_result"
    }
   ],
   "source": [
    "id(myList)"
   ]
  },
  {
   "cell_type": "markdown",
   "metadata": {},
   "source": [
    "Notice that the address of our ``list`` has not changed.\n",
    "\n",
    "I can also combine lists using the ``+=`` operator:"
   ]
  },
  {
   "cell_type": "code",
   "execution_count": 16,
   "metadata": {
    "collapsed": false
   },
   "outputs": [],
   "source": [
    "myList += ['X', 'Y', 'Z']"
   ]
  },
  {
   "cell_type": "code",
   "execution_count": 17,
   "metadata": {
    "collapsed": false
   },
   "outputs": [
    {
     "data": {
      "text/plain": [
       "['a', 'b', 'c', 1, 2, 3, 'X', 'Y', 'Z']"
      ]
     },
     "execution_count": 17,
     "metadata": {},
     "output_type": "execute_result"
    }
   ],
   "source": [
    "myList"
   ]
  },
  {
   "cell_type": "code",
   "execution_count": 37,
   "metadata": {
    "collapsed": false
   },
   "outputs": [
    {
     "data": {
      "text/plain": [
       "4400548752"
      ]
     },
     "execution_count": 37,
     "metadata": {},
     "output_type": "execute_result"
    }
   ],
   "source": [
    "id(myList)"
   ]
  },
  {
   "cell_type": "markdown",
   "metadata": {},
   "source": [
    "I added three items to the end of the list. Notice that the memory address still hasn't changed! Let's change and individual items by assigning to its index:"
   ]
  },
  {
   "cell_type": "code",
   "execution_count": 18,
   "metadata": {
    "collapsed": true
   },
   "outputs": [],
   "source": [
    "myList[1] = 'bee'"
   ]
  },
  {
   "cell_type": "code",
   "execution_count": 19,
   "metadata": {
    "collapsed": false
   },
   "outputs": [
    {
     "data": {
      "text/plain": [
       "['a', 'bee', 'c', 1, 2, 3, 'X', 'Y', 'Z']"
      ]
     },
     "execution_count": 19,
     "metadata": {},
     "output_type": "execute_result"
    }
   ],
   "source": [
    "myList"
   ]
  },
  {
   "cell_type": "code",
   "execution_count": 38,
   "metadata": {
    "collapsed": false
   },
   "outputs": [
    {
     "data": {
      "text/plain": [
       "4400548752"
      ]
     },
     "execution_count": 38,
     "metadata": {},
     "output_type": "execute_result"
    }
   ],
   "source": [
    "id(myList)    # Still the same!"
   ]
  },
  {
   "cell_type": "markdown",
   "metadata": {},
   "source": [
    "Each of the three times that I changed my ``list``, above, I was simply making changes to a single ``list`` object. First I added an item, then I added some more items, and then I changed an item. Even though the items in the ``list`` changed, I was working with the **same list** located in the same location in memory.\n",
    "\n",
    "In Python, we refer to this ability to change as **mutability**. If a class/type is mutable, then its attributes can change.\n",
    "\n",
    "In contrast, a ``tuple`` is **immutable**. Suppose that I create a two-tuple, like so:"
   ]
  },
  {
   "cell_type": "code",
   "execution_count": 45,
   "metadata": {
    "collapsed": true
   },
   "outputs": [],
   "source": [
    "myTuple = (0, 'b')"
   ]
  },
  {
   "cell_type": "code",
   "execution_count": 46,
   "metadata": {
    "collapsed": false
   },
   "outputs": [
    {
     "data": {
      "text/plain": [
       "(0, 'b')"
      ]
     },
     "execution_count": 46,
     "metadata": {},
     "output_type": "execute_result"
    }
   ],
   "source": [
    "myTuple"
   ]
  },
  {
   "cell_type": "code",
   "execution_count": 47,
   "metadata": {
    "collapsed": false
   },
   "outputs": [
    {
     "data": {
      "text/plain": [
       "4400177880"
      ]
     },
     "execution_count": 47,
     "metadata": {},
     "output_type": "execute_result"
    }
   ],
   "source": [
    "id(myTuple)"
   ]
  },
  {
   "cell_type": "markdown",
   "metadata": {},
   "source": [
    "Now I want to extend the tuple by tacking on a couple more items:"
   ]
  },
  {
   "cell_type": "code",
   "execution_count": 48,
   "metadata": {
    "collapsed": true
   },
   "outputs": [],
   "source": [
    "myTuple += (2, 'd')"
   ]
  },
  {
   "cell_type": "code",
   "execution_count": 49,
   "metadata": {
    "collapsed": false
   },
   "outputs": [
    {
     "data": {
      "text/plain": [
       "(0, 'b', 2, 'd')"
      ]
     },
     "execution_count": 49,
     "metadata": {},
     "output_type": "execute_result"
    }
   ],
   "source": [
    "myTuple"
   ]
  },
  {
   "cell_type": "code",
   "execution_count": 50,
   "metadata": {
    "collapsed": false
   },
   "outputs": [
    {
     "data": {
      "text/plain": [
       "4400707288"
      ]
     },
     "execution_count": 50,
     "metadata": {},
     "output_type": "execute_result"
    }
   ],
   "source": [
    "id(myTuple)"
   ]
  },
  {
   "cell_type": "markdown",
   "metadata": {},
   "source": [
    "Notice that the memory address has changed! When I extended my ``tuple`` I wasn't really extending it at all: instead, Python took the items from my existing ``tuple`` (``0``, ``'b'``) and the items from the ``tuple`` that I wanted to concatenate (``2``, ``'d'``), and created a **brand new ``tuple``** containing those items. We refer to that new ``tuple`` using the name of my old tuple, ``myTuple``."
   ]
  },
  {
   "cell_type": "markdown",
   "metadata": {},
   "source": [
    "### 4.3. Node and edge attributes.\n",
    "\n",
    "When you create nodes and edges, you can add attributes to them. Let's make a small social network; each node will represent a person, and each edge will represent a social tie between two people."
   ]
  },
  {
   "cell_type": "code",
   "execution_count": 72,
   "metadata": {
    "collapsed": true
   },
   "outputs": [],
   "source": [
    "socialGraph = nx.Graph()"
   ]
  },
  {
   "cell_type": "markdown",
   "metadata": {},
   "source": [
    "Here we add some nodes, one per person, with a few attributes. We'll give each node an ``age`` attribute and an ``income`` attribute."
   ]
  },
  {
   "cell_type": "code",
   "execution_count": 73,
   "metadata": {
    "collapsed": true
   },
   "outputs": [],
   "source": [
    "socialGraph.add_node('Frank Jones', {'age': 37, 'income': 87000.92})\n",
    "socialGraph.add_node('Susan Gates', {'age': 41, 'income': 67042.01})\n",
    "socialGraph.add_node('Jane Jackson', {'age': 22, 'income': 205939.12})"
   ]
  },
  {
   "cell_type": "markdown",
   "metadata": {},
   "source": [
    "When I list my nodes using ``nodes()``, I can pass the keyword argument ``data=True`` to see the attributes associated with each node."
   ]
  },
  {
   "cell_type": "code",
   "execution_count": 74,
   "metadata": {
    "collapsed": false
   },
   "outputs": [
    {
     "data": {
      "text/plain": [
       "[('Frank Jones', {'age': 37, 'income': 87000.92}),\n",
       " ('Jane Jackson', {'age': 22, 'income': 205939.12}),\n",
       " ('Susan Gates', {'age': 41, 'income': 67042.01})]"
      ]
     },
     "execution_count": 74,
     "metadata": {},
     "output_type": "execute_result"
    }
   ],
   "source": [
    "socialGraph.nodes(data=True)"
   ]
  },
  {
   "cell_type": "markdown",
   "metadata": {},
   "source": [
    "If I want to change an attribute for a node, or add new attributes, I can do that by changing values in the graph's ``node`` attribute:"
   ]
  },
  {
   "cell_type": "code",
   "execution_count": 75,
   "metadata": {
    "collapsed": true
   },
   "outputs": [],
   "source": [
    "socialGraph.node['Frank Jones']['age'] = 38\n",
    "socialGraph.node['Susan Gates']['favoriteColor'] = 'red'"
   ]
  },
  {
   "cell_type": "code",
   "execution_count": 76,
   "metadata": {
    "collapsed": false
   },
   "outputs": [
    {
     "data": {
      "text/plain": [
       "[('Frank Jones', {'age': 38, 'income': 87000.92}),\n",
       " ('Jane Jackson', {'age': 22, 'income': 205939.12}),\n",
       " ('Susan Gates', {'age': 41, 'favoriteColor': 'red', 'income': 67042.01})]"
      ]
     },
     "execution_count": 76,
     "metadata": {},
     "output_type": "execute_result"
    }
   ],
   "source": [
    "socialGraph.nodes(data=True)"
   ]
  },
  {
   "cell_type": "markdown",
   "metadata": {},
   "source": [
    "We can do the same thing for edges:"
   ]
  },
  {
   "cell_type": "code",
   "execution_count": 77,
   "metadata": {
    "collapsed": true
   },
   "outputs": [],
   "source": [
    "socialGraph.add_edge('Frank Jones', 'Susan Gates', {'yearsKnown': 5, 'status': 'friends'})\n",
    "socialGraph.add_edge('Susan Gates', 'Jane Jackson', {'yearsKnown': 0.25, 'status': 'acquaintances'})\n",
    "socialGraph.add_edge('Frank Jones', 'Jane Jackson', {'yearsKnown': 2, 'status': 'friends'})"
   ]
  },
  {
   "cell_type": "code",
   "execution_count": 78,
   "metadata": {
    "collapsed": false
   },
   "outputs": [],
   "source": [
    "socialGraph.edge['Susan Gates']['Frank Jones']['yearsKnown'] = 3   # Change a value."
   ]
  },
  {
   "cell_type": "code",
   "execution_count": 79,
   "metadata": {
    "collapsed": false
   },
   "outputs": [
    {
     "data": {
      "text/plain": [
       "[('Frank Jones', 'Jane Jackson', {'status': 'friends', 'yearsKnown': 2}),\n",
       " ('Frank Jones', 'Susan Gates', {'status': 'friends', 'yearsKnown': 3}),\n",
       " ('Jane Jackson',\n",
       "  'Susan Gates',\n",
       "  {'status': 'acquaintances', 'yearsKnown': 0.25})]"
      ]
     },
     "execution_count": 79,
     "metadata": {},
     "output_type": "execute_result"
    }
   ],
   "source": [
    "socialGraph.edges(data=True)"
   ]
  },
  {
   "cell_type": "markdown",
   "metadata": {},
   "source": [
    "Here's the graph that we just created:"
   ]
  },
  {
   "cell_type": "code",
   "execution_count": 82,
   "metadata": {
    "collapsed": false
   },
   "outputs": [
    {
     "data": {
      "image/png": "[encoded data removed]",
      "text/plain": [
       "<matplotlib.figure.Figure at 0x107333490>"
      ]
     },
     "metadata": {},
     "output_type": "display_data"
    }
   ],
   "source": [
    "nx.draw_networkx(socialGraph)"
   ]
  },
  {
   "cell_type": "markdown",
   "metadata": {},
   "source": [
    "#### Aside: dictionaries!\n",
    "\n",
    "In the examples above, you may have noticed that we used curly braces ``{}`` when defining attributes. The curly braces denote an object called a **dictionary** (``dict``). A dictionary is an object that stores key-value pairs. \n",
    "\n",
    "For example, I might want to be able to look up a bunch of people by their student IDs. To do that, I could create a dictionary with student IDs as keys, and names as values:"
   ]
  },
  {
   "cell_type": "code",
   "execution_count": 83,
   "metadata": {
    "collapsed": true
   },
   "outputs": [],
   "source": [
    "students = {    # I was born in the 1980s...\n",
    "    292883094: 'Bob Dole',\n",
    "    940528892: 'Ross Perot',\n",
    "    940927000: 'Janet Reno',\n",
    "}"
   ]
  },
  {
   "cell_type": "markdown",
   "metadata": {},
   "source": [
    "The part on the left of the colon ``:`` is the key, and the part on the right is the value. Notice that each key:value pair is separated by a comma.\n",
    "\n",
    "I can look up values using their keys:"
   ]
  },
  {
   "cell_type": "code",
   "execution_count": 84,
   "metadata": {
    "collapsed": false
   },
   "outputs": [
    {
     "data": {
      "text/plain": [
       "'Bob Dole'"
      ]
     },
     "execution_count": 84,
     "metadata": {},
     "output_type": "execute_result"
    }
   ],
   "source": [
    "students[292883094]"
   ]
  },
  {
   "cell_type": "markdown",
   "metadata": {},
   "source": [
    "I can change values, or add new ones, using something similar to the ``list`` index notation, using square braces ``[]``."
   ]
  },
  {
   "cell_type": "code",
   "execution_count": 85,
   "metadata": {
    "collapsed": true
   },
   "outputs": [],
   "source": [
    "students[292883095] = 'Michael Jackson'    # A new value.\n",
    "students[940927000] = 'Janet Wood Reno'    # Changing an existing value."
   ]
  },
  {
   "cell_type": "code",
   "execution_count": 86,
   "metadata": {
    "collapsed": false
   },
   "outputs": [
    {
     "data": {
      "text/plain": [
       "{292883094: 'Bob Dole',\n",
       " 292883095: 'Michael Jackson',\n",
       " 940528892: 'Ross Perot',\n",
       " 940927000: 'Janet Wood Reno'}"
      ]
     },
     "execution_count": 86,
     "metadata": {},
     "output_type": "execute_result"
    }
   ],
   "source": [
    "students"
   ]
  },
  {
   "cell_type": "markdown",
   "metadata": {},
   "source": [
    "Anything can be a value, but only **some** things can be keys. An object can only be used as a key if it is **immutable**. Here are some things that are immutable:\n",
    "\n",
    "* Tuples,\n",
    "* Strings,\n",
    "* Integers"
   ]
  },
  {
   "cell_type": "code",
   "execution_count": 87,
   "metadata": {
    "collapsed": true
   },
   "outputs": [],
   "source": [
    "myDict = {}\n",
    "myDict['a string key'] = 'and its value'"
   ]
  },
  {
   "cell_type": "code",
   "execution_count": 88,
   "metadata": {
    "collapsed": true
   },
   "outputs": [],
   "source": [
    "myDict[('A', 'Tuple', 'Key')] = 'can also be used'"
   ]
  },
  {
   "cell_type": "code",
   "execution_count": 89,
   "metadata": {
    "collapsed": false
   },
   "outputs": [
    {
     "ename": "TypeError",
     "evalue": "unhashable type: 'list'",
     "output_type": "error",
     "traceback": [
      "\u001b[0;31m---------------------------------------------------------------------------\u001b[0m",
      "\u001b[0;31mTypeError\u001b[0m                                 Traceback (most recent call last)",
      "\u001b[0;32m<ipython-input-89-b068b01a1fbf>\u001b[0m in \u001b[0;36m<module>\u001b[0;34m()\u001b[0m\n\u001b[0;32m----> 1\u001b[0;31m \u001b[0mmyDict\u001b[0m\u001b[0;34m[\u001b[0m\u001b[0;34m[\u001b[0m\u001b[0;36m0\u001b[0m\u001b[0;34m,\u001b[0m \u001b[0;36m1\u001b[0m\u001b[0;34m,\u001b[0m \u001b[0;36m2\u001b[0m\u001b[0;34m]\u001b[0m\u001b[0;34m]\u001b[0m \u001b[0;34m=\u001b[0m \u001b[0;34m'but not a list!'\u001b[0m\u001b[0;34m\u001b[0m\u001b[0m\n\u001b[0m",
      "\u001b[0;31mTypeError\u001b[0m: unhashable type: 'list'"
     ]
    }
   ],
   "source": [
    "myDict[[0, 1, 2]] = 'but not a list!'"
   ]
  },
  {
   "cell_type": "markdown",
   "metadata": {},
   "source": [
    "Whoops! I tried to use a ``list`` as a key, and got an error. That's because ``list``s are mutable (they can be changed)."
   ]
  },
  {
   "cell_type": "markdown",
   "metadata": {},
   "source": [
    "### 4.4. Serializing your graph\n",
    "\n",
    "Once you have created a graph in NetworkX, it's a good idea to save it. This way you can use it later on, share it with your colleagues, put it in an archive, or load it into another program for analysis and visualization. We can **serialize** (transform into something that we can store) and **deserialize** (load from disk into Python objects) a graph using NetworkX's [reading and writing functions](https://networkx.github.io/documentation/latest/reference/readwrite.html).\n",
    "\n",
    "For example, to serialize a graph in the [GraphML file format](http://graphml.graphdrawing.org/), we can use the ``write_graphml()`` function. The first argument should be the graph object that we want to save, and the second argument should be the path where we want to save it (the file will be created)."
   ]
  },
  {
   "cell_type": "code",
   "execution_count": 90,
   "metadata": {
    "collapsed": true
   },
   "outputs": [],
   "source": [
    "nx.write_graphml(socialGraph, '/Users/erickpeirson/Desktop/socialGraph.graphml')"
   ]
  },
  {
   "cell_type": "markdown",
   "metadata": {},
   "source": [
    "If you were to open the file ``socialGraph.graphml`` in a text editor, you should see something like this:\n",
    "\n",
    "```xml\n",
    "<?xml version='1.0' encoding='utf-8'?>\n",
    "<graphml xmlns=\"http://graphml.graphdrawing.org/xmlns\" xmlns:xsi=\"http://www.w3.org/2001/XMLSchema-instance\" xsi:schemaLocation=\"http://graphml.graphdrawing.org/xmlns http://graphml.graphdrawing.org/xmlns/1.0/graphml.xsd\">\n",
    "  <key attr.name=\"yearsKnown\" attr.type=\"double\" for=\"edge\" id=\"d5\" />\n",
    "  <key attr.name=\"yearsKnown\" attr.type=\"int\" for=\"edge\" id=\"d4\" />\n",
    "  <key attr.name=\"status\" attr.type=\"string\" for=\"edge\" id=\"d3\" />\n",
    "  <key attr.name=\"favoriteColor\" attr.type=\"string\" for=\"node\" id=\"d2\" />\n",
    "  <key attr.name=\"income\" attr.type=\"double\" for=\"node\" id=\"d1\" />\n",
    "  <key attr.name=\"age\" attr.type=\"int\" for=\"node\" id=\"d0\" />\n",
    "  <graph edgedefault=\"undirected\">\n",
    "    <node id=\"Frank Jones\">\n",
    "      <data key=\"d0\">38</data>\n",
    "      <data key=\"d1\">87000.92</data>\n",
    "    </node>\n",
    "    <node id=\"Jane Jackson\">\n",
    "      <data key=\"d0\">22</data>\n",
    "      <data key=\"d1\">205939.12</data>\n",
    "    </node>\n",
    "    <node id=\"Susan Gates\">\n",
    "      <data key=\"d0\">41</data>\n",
    "      <data key=\"d2\">red</data>\n",
    "      <data key=\"d1\">67042.01</data>\n",
    "    </node>\n",
    "    <edge source=\"Frank Jones\" target=\"Jane Jackson\">\n",
    "      <data key=\"d3\">friends</data>\n",
    "      <data key=\"d4\">2</data>\n",
    "    </edge>\n",
    "    <edge source=\"Frank Jones\" target=\"Susan Gates\">\n",
    "      <data key=\"d3\">friends</data>\n",
    "      <data key=\"d4\">3</data>\n",
    "    </edge>\n",
    "    <edge source=\"Jane Jackson\" target=\"Susan Gates\">\n",
    "      <data key=\"d3\">acquaintances</data>\n",
    "      <data key=\"d5\">0.25</data>\n",
    "    </edge>\n",
    "  </graph>\n",
    "</graphml>\n",
    "```\n",
    "\n",
    "This XML document contains all of the elements in my ``Graph`` object: the nodes, the edges, and all of their attributes. If I want to visualize this graph, I can now load it in a program like [Cytoscape](http://cytoscape.org/)."
   ]
  },
  {
   "cell_type": "markdown",
   "metadata": {},
   "source": [
    "To **deserialize** (load) a graph from GraphML, you can use the ``read_graphml()`` function:"
   ]
  },
  {
   "cell_type": "code",
   "execution_count": 91,
   "metadata": {
    "collapsed": true
   },
   "outputs": [],
   "source": [
    "loadedGraph = nx.read_graphml('/Users/erickpeirson/Desktop/socialGraph.graphml')    # Path to my file."
   ]
  },
  {
   "cell_type": "code",
   "execution_count": 92,
   "metadata": {
    "collapsed": false
   },
   "outputs": [
    {
     "data": {
      "text/plain": [
       "<networkx.classes.graph.Graph at 0x107922610>"
      ]
     },
     "execution_count": 92,
     "metadata": {},
     "output_type": "execute_result"
    }
   ],
   "source": [
    "loadedGraph"
   ]
  },
  {
   "cell_type": "markdown",
   "metadata": {},
   "source": [
    "## Stuff to try:\n",
    "\n",
    "Try creating a more complex graph from your social network. If you use Facebook or Google Plus, take a look at your friends list, and add a sample of them (say, 30) to a new ``Graph`` object. Then add edges between friends that know each other. Then, serialize the graph to GraphML and load it in Cytoscape."
   ]
  },
  {
   "cell_type": "code",
   "execution_count": null,
   "metadata": {
    "collapsed": true
   },
   "outputs": [],
   "source": []
  }
 ],
 "metadata": {
  "kernelspec": {
   "display_name": "Python 2",
   "language": "python",
   "name": "python2"
  },
  "language_info": {
   "codemirror_mode": {
    "name": "ipython",
    "version": 2
   },
   "file_extension": ".py",
   "mimetype": "text/x-python",
   "name": "python",
   "nbconvert_exporter": "python",
   "pygments_lexer": "ipython2",
   "version": "2.7.9"
  }
 },
 "nbformat": 4,
 "nbformat_minor": 0
}
