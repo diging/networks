{
 "cells": [
  {
   "cell_type": "markdown",
   "metadata": {},
   "source": [
    "# Programming for Network Research\n",
    "**[Erick Peirson, PhD](https://asu.academia.edu/ErickPeirson)** | erick.peirson@asu.edu | [@captbarberousse](https://twitter.com/captbarberousse)\n",
    "\n",
    "Last updated 21 January, 2016"
   ]
  },
  {
   "cell_type": "markdown",
   "metadata": {},
   "source": [
    "* [0. Introduction](0.%20Introduction.ipynb).\n",
    "* **[1. First steps with Python](1.%20First%20steps%20with%20Python.ipynb).**\n",
    "* [2. Objects and types](2.%20Objects%20and%20types.ipynb).\n",
    "* 3: Flow control: if, elif, else, and friends.\n",
    "* 4: Functions and functional programming.\n",
    "* 5: I/O: working with data! Numpy and Pandas.\n",
    "* 6: Our first tabular graph. Layout and visualization in Cytoscape.\n",
    "* 7: Intro to NetworkX. GraphML. Advanced visualization in Cytoscape.\n",
    "* 8: Blockmodels in NetworkX.\n",
    "* 9: Properties of graphs: whole-graph statistics in NetworkX and Cytoscape.\n",
    "* 10: Properties of nodes: centrality statistics.\n",
    "* 11: ..."
   ]
  },
  {
   "cell_type": "markdown",
   "metadata": {},
   "source": [
    "## 1. First steps with Python.\n",
    "\n",
    "In this notebook we'll cover some basic concepts for programming in Python. We'll talk about mathematical operations, syntax, and comments."
   ]
  },
  {
   "cell_type": "markdown",
   "metadata": {},
   "source": [
    "### 1.1. Python can math.\n",
    "\n",
    "Doing math in Python is pretty straightforward. You can add two numbers like this:"
   ]
  },
  {
   "cell_type": "code",
   "execution_count": 2,
   "metadata": {
    "collapsed": false
   },
   "outputs": [
    {
     "data": {
      "text/plain": [
       "2"
      ]
     },
     "execution_count": 2,
     "metadata": {},
     "output_type": "execute_result"
    }
   ],
   "source": [
    "1 + 1"
   ]
  },
  {
   "cell_type": "markdown",
   "metadata": {},
   "source": [
    "...and subtract like this:"
   ]
  },
  {
   "cell_type": "code",
   "execution_count": 3,
   "metadata": {
    "collapsed": false
   },
   "outputs": [
    {
     "data": {
      "text/plain": [
       "0"
      ]
     },
     "execution_count": 3,
     "metadata": {},
     "output_type": "execute_result"
    }
   ],
   "source": [
    "1 - 1"
   ]
  },
  {
   "cell_type": "markdown",
   "metadata": {},
   "source": [
    "Multiplication and division should also look pretty familiar:"
   ]
  },
  {
   "cell_type": "code",
   "execution_count": 5,
   "metadata": {
    "collapsed": false
   },
   "outputs": [
    {
     "data": {
      "text/plain": [
       "2"
      ]
     },
     "execution_count": 5,
     "metadata": {},
     "output_type": "execute_result"
    }
   ],
   "source": [
    "4 / 2    # Divide!"
   ]
  },
  {
   "cell_type": "code",
   "execution_count": 6,
   "metadata": {
    "collapsed": false
   },
   "outputs": [
    {
     "data": {
      "text/plain": [
       "8"
      ]
     },
     "execution_count": 6,
     "metadata": {},
     "output_type": "execute_result"
    }
   ],
   "source": [
    "4 * 2    # Multiply!"
   ]
  },
  {
   "cell_type": "markdown",
   "metadata": {},
   "source": [
    "Want to calculate the remainder of a division operation? Use the modulo (%) operator!"
   ]
  },
  {
   "cell_type": "code",
   "execution_count": 12,
   "metadata": {
    "collapsed": false
   },
   "outputs": [
    {
     "data": {
      "text/plain": [
       "1"
      ]
     },
     "execution_count": 12,
     "metadata": {},
     "output_type": "execute_result"
    }
   ],
   "source": [
    "5 % 2    # 5 divided by 2 is 2, with a remainder of 1!"
   ]
  },
  {
   "cell_type": "markdown",
   "metadata": {},
   "source": [
    "To write powers, we use two asterisks (\\*):"
   ]
  },
  {
   "cell_type": "code",
   "execution_count": 13,
   "metadata": {
    "collapsed": false
   },
   "outputs": [
    {
     "data": {
      "text/plain": [
       "32"
      ]
     },
     "execution_count": 13,
     "metadata": {},
     "output_type": "execute_result"
    }
   ],
   "source": [
    "2 ** 5"
   ]
  },
  {
   "cell_type": "markdown",
   "metadata": {},
   "source": [
    "You can perform multiple operations in a single statement. Python will evaluate your multi-operation statement in the following order:\n",
    "\n",
    "1. Power. ```x ** y```\n",
    "2. Multiplication, division, modulo. ```x * y, x / y, x % y```\n",
    "3. Addition, subtraction. ```x + y, x - y```"
   ]
  },
  {
   "cell_type": "code",
   "execution_count": 17,
   "metadata": {
    "collapsed": false
   },
   "outputs": [
    {
     "data": {
      "text/plain": [
       "-9"
      ]
     },
     "execution_count": 17,
     "metadata": {},
     "output_type": "execute_result"
    }
   ],
   "source": [
    "5 * 5 - 2 ** 5 - 2"
   ]
  },
  {
   "cell_type": "markdown",
   "metadata": {},
   "source": [
    "You can use parentheses to group operations."
   ]
  },
  {
   "cell_type": "code",
   "execution_count": 18,
   "metadata": {
    "collapsed": false
   },
   "outputs": [
    {
     "data": {
      "text/plain": [
       "135"
      ]
     },
     "execution_count": 18,
     "metadata": {},
     "output_type": "execute_result"
    }
   ],
   "source": [
    "5 * (5 - 2) ** (5 - 2)"
   ]
  },
  {
   "cell_type": "markdown",
   "metadata": {},
   "source": [
    "### 1.2. Floats and Integers\n",
    "\n",
    "Suppose I want to divide 5 by 3. You might be tempted to do..."
   ]
  },
  {
   "cell_type": "code",
   "execution_count": 19,
   "metadata": {
    "collapsed": false
   },
   "outputs": [
    {
     "data": {
      "text/plain": [
       "1"
      ]
     },
     "execution_count": 19,
     "metadata": {},
     "output_type": "execute_result"
    }
   ],
   "source": [
    "5/3"
   ]
  },
  {
   "cell_type": "markdown",
   "metadata": {},
   "source": [
    "\"What on earth?!\" you might ask in incredulity. \"Python clearly fails math.\"\n",
    "\n",
    "You have just attempted to divide one integer by another. And, as it happens, when you math in Python you will get out what you get in. In this case: an integer (or, in Python, an ``int``).\n",
    "\n",
    "Of course, we want to deal with all kinds of other real numbers, like 5.1 and $10^-5$. For this we have the floating-point numbers, or ``float``. To write a float, just include a decimal (.):"
   ]
  },
  {
   "cell_type": "code",
   "execution_count": 20,
   "metadata": {
    "collapsed": false
   },
   "outputs": [
    {
     "data": {
      "text/plain": [
       "5.0"
      ]
     },
     "execution_count": 20,
     "metadata": {},
     "output_type": "execute_result"
    }
   ],
   "source": [
    "5."
   ]
  },
  {
   "cell_type": "markdown",
   "metadata": {},
   "source": [
    "Let's try our elementary-school division problem again, this time with ``float``s:"
   ]
  },
  {
   "cell_type": "code",
   "execution_count": 21,
   "metadata": {
    "collapsed": false
   },
   "outputs": [
    {
     "data": {
      "text/plain": [
       "1.6666666666666667"
      ]
     },
     "execution_count": 21,
     "metadata": {},
     "output_type": "execute_result"
    }
   ],
   "source": [
    "5./3."
   ]
  },
  {
   "cell_type": "markdown",
   "metadata": {},
   "source": [
    "Tada! That looks much better. If you want to read more about the ins and outs of Python floating point numbers, check out [this article](https://docs.python.org/2/tutorial/floatingpoint.html)."
   ]
  },
  {
   "cell_type": "markdown",
   "metadata": {},
   "source": [
    "### 1.2. Functions.\n",
    "\n",
    "Often you will need to apply the same set of operations or procedures in a bunch of different places. For example, suppose you need to calculate the area of a circle, $A$, given its radius, $r$. Recall:\n",
    "\n",
    "$A = \\pi r^2$\n",
    "\n",
    "So if I want to calculate the area of a circle with $r = 5$, I could write:"
   ]
  },
  {
   "cell_type": "code",
   "execution_count": 24,
   "metadata": {
    "collapsed": false
   },
   "outputs": [
    {
     "data": {
      "text/plain": [
       "78.5398175"
      ]
     },
     "execution_count": 24,
     "metadata": {},
     "output_type": "execute_result"
    }
   ],
   "source": [
    "3.1415927 * 5. ** 2"
   ]
  },
  {
   "cell_type": "markdown",
   "metadata": {},
   "source": [
    "This is fine for what it's worth, but if I need to include this calculation in a much larger equation the code will quickly become unreadable. According to the [Zen of Python](https://www.python.org/dev/peps/pep-0020/), \"Readability counts.\" And why write it a million times? A good rule to follow is DRY: Don't Repeat Yourself. \n",
    "\n",
    "So, we define a function (``function``)."
   ]
  },
  {
   "cell_type": "code",
   "execution_count": 25,
   "metadata": {
    "collapsed": true
   },
   "outputs": [],
   "source": [
    "def area_of_a_circle(radius):        # ``radius`` is a \"parameter\", or \"argument\".\n",
    "    return 3.1415927 * radius ** 2   # And we can use it down here!"
   ]
  },
  {
   "cell_type": "markdown",
   "metadata": {},
   "source": [
    "The first line, \n",
    "\n",
    "```python\n",
    "def area_of_a_circle(radius):\n",
    "```\n",
    "\n",
    "is the **declaration** or **signature** of the function. This part says, \"I hereby define (``def``) a function called ``area_of_a_circle``. It shall accept a single parameter, which I shall call ``radius``. Let it be so! (``:``)\"\n",
    "\n",
    "The second line, \n",
    "\n",
    "```python\n",
    "return 3.1415927 * radius ** 2\n",
    "```\n",
    "\n",
    "Tells Python what your so-declared function should ``return``. In this case, it returns the outcome of the mathematical operation ``3.1415927 * radius ** 2``.\n",
    "\n",
    "Let's try it:"
   ]
  },
  {
   "cell_type": "code",
   "execution_count": 26,
   "metadata": {
    "collapsed": false
   },
   "outputs": [
    {
     "data": {
      "text/plain": [
       "78.5398175"
      ]
     },
     "execution_count": 26,
     "metadata": {},
     "output_type": "execute_result"
    }
   ],
   "source": [
    "area_of_a_circle(5.)"
   ]
  },
  {
   "cell_type": "markdown",
   "metadata": {},
   "source": [
    "Notice this thing we're calling the parameter, ``radius``. ``radius`` is a variable. What we've said is that when we call the function, like we just did, whatever we provide as the first (and only) input value should be assigned to a variable called ``radius``. Inside the function, we can use that variable however we like.\n",
    "\n",
    "We can write as many procedures as we like inside of our function. Suppose, for example, that we wanted to calculate the area of a right cylinder. Recall that: \n",
    "\n",
    "$A_{cylinder} = 2\\pi rh + A_{circle}$\n",
    "\n",
    "Where $h$ is the height of the cylinder on the axis perpendicular to the radius.\n",
    "\n",
    "So we could define a function like so:"
   ]
  },
  {
   "cell_type": "code",
   "execution_count": 29,
   "metadata": {
    "collapsed": true
   },
   "outputs": [],
   "source": [
    "def area_of_a_cylinder(radius, height):\n",
    "    area_circle = area_of_a_circle(radius)\n",
    "    return 2. * 3.1415927 * radius * height + area_circle"
   ]
  },
  {
   "cell_type": "markdown",
   "metadata": {},
   "source": [
    "First I calculated the area of a circle, and assigned it to a variable called ``area_circle``. Then I calculated the area of the cylinder, using ``area_circle`` and the other two parameters (``radius`` and ``height``)."
   ]
  },
  {
   "cell_type": "code",
   "execution_count": 30,
   "metadata": {
    "collapsed": false
   },
   "outputs": [
    {
     "data": {
      "text/plain": [
       "458.6725342"
      ]
     },
     "execution_count": 30,
     "metadata": {},
     "output_type": "execute_result"
    }
   ],
   "source": [
    "area_of_a_cylinder(5., 12.1)"
   ]
  },
  {
   "cell_type": "markdown",
   "metadata": {},
   "source": [
    "### 1.4. Python can talk.\n",
    "\n",
    "Well, not really. But it can deal in text just as well as it can deal in numbers.\n",
    "\n",
    "In Python, a sequence of characters (like the letters in the alphabet, or punctuation marks) is called a string, or ``str``.\n",
    "\n",
    "We write strings with quotation marks."
   ]
  },
  {
   "cell_type": "code",
   "execution_count": 31,
   "metadata": {
    "collapsed": false
   },
   "outputs": [
    {
     "data": {
      "text/plain": [
       "'I am a string!'"
      ]
     },
     "execution_count": 31,
     "metadata": {},
     "output_type": "execute_result"
    }
   ],
   "source": [
    "\"I am a string!\""
   ]
  },
  {
   "cell_type": "markdown",
   "metadata": {},
   "source": [
    "You can also use single-quotes:"
   ]
  },
  {
   "cell_type": "code",
   "execution_count": 32,
   "metadata": {
    "collapsed": false
   },
   "outputs": [
    {
     "data": {
      "text/plain": [
       "'I am also a string!'"
      ]
     },
     "execution_count": 32,
     "metadata": {},
     "output_type": "execute_result"
    }
   ],
   "source": [
    "'I am also a string!'"
   ]
  },
  {
   "cell_type": "markdown",
   "metadata": {},
   "source": [
    "But they have to match:"
   ]
  },
  {
   "cell_type": "code",
   "execution_count": 33,
   "metadata": {
    "collapsed": false
   },
   "outputs": [
    {
     "ename": "SyntaxError",
     "evalue": "EOL while scanning string literal (<ipython-input-33-dfad34c724f2>, line 1)",
     "output_type": "error",
     "traceback": [
      "\u001b[0;36m  File \u001b[0;32m\"<ipython-input-33-dfad34c724f2>\"\u001b[0;36m, line \u001b[0;32m1\u001b[0m\n\u001b[0;31m    'I am going to generate an error!\"\u001b[0m\n\u001b[0m                                     ^\u001b[0m\n\u001b[0;31mSyntaxError\u001b[0m\u001b[0;31m:\u001b[0m EOL while scanning string literal\n"
     ]
    }
   ],
   "source": [
    "'I am going to generate an error!\""
   ]
  },
  {
   "cell_type": "markdown",
   "metadata": {},
   "source": [
    "You can concatenate strings using the plus (``+``) operator."
   ]
  },
  {
   "cell_type": "code",
   "execution_count": 34,
   "metadata": {
    "collapsed": false
   },
   "outputs": [
    {
     "data": {
      "text/plain": [
       "'I am the first part of the string, and I am the second part.'"
      ]
     },
     "execution_count": 34,
     "metadata": {},
     "output_type": "execute_result"
    }
   ],
   "source": [
    "'I am the first part of the string, ' + 'and I am the second part.'"
   ]
  },
  {
   "cell_type": "markdown",
   "metadata": {},
   "source": [
    "We can do all kinds of cool things with strings. For example, we could find out how long a string is using the built-in function ``len``:"
   ]
  },
  {
   "cell_type": "code",
   "execution_count": 36,
   "metadata": {
    "collapsed": false
   },
   "outputs": [
    {
     "data": {
      "text/plain": [
       "14"
      ]
     },
     "execution_count": 36,
     "metadata": {},
     "output_type": "execute_result"
    }
   ],
   "source": [
    "len('How long am I?')    # Returns the number of characters."
   ]
  },
  {
   "cell_type": "markdown",
   "metadata": {},
   "source": [
    "We can also make strings upper or lower case, or even title case! In an IPython notebook, only the value of the last expression is displayed. So if we want to see the value of multiple expressions in the same cell we'll have to ``print`` them."
   ]
  },
  {
   "cell_type": "code",
   "execution_count": 42,
   "metadata": {
    "collapsed": false
   },
   "outputs": [
    {
     "name": "stdout",
     "output_type": "stream",
     "text": [
      "why am i screaming?!\n",
      "OFTEN THIS IS USEFUL FOR GETTING SOMEONE'S ATTENTION\n",
      "French People Often Forget To Capitalize Proper Nouns\n"
     ]
    }
   ],
   "source": [
    "print 'WHY AM I SCREAMINg?!'.lower()\n",
    "print \"Often this is useful for getting someone's attention\".upper()\n",
    "print 'french people often forget to capitalize proper nouns'.title()"
   ]
  },
  {
   "cell_type": "markdown",
   "metadata": {},
   "source": [
    "(if it looks weird to put the function at the end of the string, don't worry; we'll cover that later)"
   ]
  },
  {
   "cell_type": "markdown",
   "metadata": {},
   "source": [
    "We can get the third character in the string:"
   ]
  },
  {
   "cell_type": "code",
   "execution_count": 38,
   "metadata": {
    "collapsed": false
   },
   "outputs": [
    {
     "data": {
      "text/plain": [
       "'m'"
      ]
     },
     "execution_count": 38,
     "metadata": {},
     "output_type": "execute_result"
    }
   ],
   "source": [
    "mycoolstring = \"I'm sick of writing strings, so I'll define a variable.\"\n",
    "\n",
    "mycoolstring[2]    # The third character."
   ]
  },
  {
   "cell_type": "markdown",
   "metadata": {},
   "source": [
    "**Notice (!!)** that I wrote the number ``2`` inside of those square braces. Those square braces say, \"I want to select the item at a particular index.\" In this case, ``2``. But why does ``2`` select the third element? \n",
    "\n",
    "In Python, like many (most) programming languages, we count from ``0``. So ``mycoolstring[0]`` gets the first character, ``mycoolstring[1]`` gets the second, and ``mycoolstring[2]`` the third. It's a little counter-intuitive at first, but after a while you'll find it hard to think in any other way.\n",
    "\n",
    "Perhaps I want to select a multi-character substring. Say, for example, I want to select the third through the eighth characters:"
   ]
  },
  {
   "cell_type": "code",
   "execution_count": 40,
   "metadata": {
    "collapsed": false
   },
   "outputs": [
    {
     "data": {
      "text/plain": [
       "'m sick'"
      ]
     },
     "execution_count": 40,
     "metadata": {},
     "output_type": "execute_result"
    }
   ],
   "source": [
    "mycoolstring[2:8]"
   ]
  },
  {
   "cell_type": "markdown",
   "metadata": {},
   "source": [
    "**Notice (!!)** that I wrote the number ``8`` right there. The colon (``:``) says \"I want to select the items in the range given by these two indices.\" In this case, ``2`` and ``8``. By why ``8``? Doesn't ``8`` refer to the *ninth* element?\n",
    "\n",
    "In Python, ranges are always inclusive of the start index and *exclusive* of the end index. So ``mycoolstring[2:8]`` selects the characters start with the third element, and up to *but not including* the ninth element.\n",
    "\n",
    "Lingo: this is called a **slice**. Like a slice of pie, but with a string."
   ]
  },
  {
   "cell_type": "markdown",
   "metadata": {},
   "source": [
    "### 1.5. Lists!\n",
    "\n",
    "Quite often we'll be interested not in just one value, but in whole sequences of values. Perhaps I have measured the length of a whole bunch of widgets, and I want to do some math with those data (e.g. take a mean).\n",
    "\n",
    "I can store those data in a ``list``. A ``list`` is just a sequence of things, where \"things\" can be just about anything. We write ``list``s with square brackets:"
   ]
  },
  {
   "cell_type": "code",
   "execution_count": 44,
   "metadata": {
    "collapsed": false
   },
   "outputs": [
    {
     "data": {
      "text/plain": [
       "['e', 'r', 'i', 'c', 'k']"
      ]
     },
     "execution_count": 44,
     "metadata": {},
     "output_type": "execute_result"
    }
   ],
   "source": [
    "['e', 'r', 'i', 'c', 'k']    # How to spell my name. A list of strings!"
   ]
  },
  {
   "cell_type": "code",
   "execution_count": 55,
   "metadata": {
    "collapsed": false
   },
   "outputs": [],
   "source": [
    "widgets = [4.3, 1.2, 8.3, 9.1, 3.3, 5.6, 8.3, 1.2]    # Lengths of widgets."
   ]
  },
  {
   "cell_type": "markdown",
   "metadata": {},
   "source": [
    "Just like with strings, I can retrieve items at specific positions in a ``list``."
   ]
  },
  {
   "cell_type": "code",
   "execution_count": 56,
   "metadata": {
    "collapsed": false
   },
   "outputs": [
    {
     "data": {
      "text/plain": [
       "1.2"
      ]
     },
     "execution_count": 56,
     "metadata": {},
     "output_type": "execute_result"
    }
   ],
   "source": [
    "widgets[1]    # Remember, the --second-- item."
   ]
  },
  {
   "cell_type": "markdown",
   "metadata": {},
   "source": [
    "I can also select a series of items in the list:"
   ]
  },
  {
   "cell_type": "code",
   "execution_count": 57,
   "metadata": {
    "collapsed": false
   },
   "outputs": [
    {
     "data": {
      "text/plain": [
       "[1.2, 8.3]"
      ]
     },
     "execution_count": 57,
     "metadata": {},
     "output_type": "execute_result"
    }
   ],
   "source": [
    "widgets[1:3]    # You can slice lists, too!"
   ]
  },
  {
   "cell_type": "markdown",
   "metadata": {},
   "source": [
    "Oh, and the last item!"
   ]
  },
  {
   "cell_type": "code",
   "execution_count": 58,
   "metadata": {
    "collapsed": false
   },
   "outputs": [
    {
     "data": {
      "text/plain": [
       "1.2"
      ]
     },
     "execution_count": 58,
     "metadata": {},
     "output_type": "execute_result"
    }
   ],
   "source": [
    "widgets[-1]    # -2 would give the second from last."
   ]
  },
  {
   "cell_type": "markdown",
   "metadata": {},
   "source": [
    "Let's write a function to calculate the mean. You could re-write this function to calculate the mode!"
   ]
  },
  {
   "cell_type": "code",
   "execution_count": 59,
   "metadata": {
    "collapsed": false
   },
   "outputs": [],
   "source": [
    "def mean(sequence):\n",
    "    \"\"\"\n",
    "    This function calculates the mean of a sequence of values.\n",
    "    \"\"\"\n",
    "    return sum(widgets)/len(widgets)    # len() gives the number of widgets."
   ]
  },
  {
   "cell_type": "code",
   "execution_count": 60,
   "metadata": {
    "collapsed": false
   },
   "outputs": [
    {
     "data": {
      "text/plain": [
       "5.1625"
      ]
     },
     "execution_count": 60,
     "metadata": {},
     "output_type": "execute_result"
    }
   ],
   "source": [
    "mean(widgets)"
   ]
  },
  {
   "cell_type": "markdown",
   "metadata": {},
   "source": [
    "### Wrap-up.\n",
    "\n",
    "In this notebook you learned about...\n",
    "\n",
    "* Integers (``int``) and floating-point numbers (``float``), and how to do some basic math in Python. \n",
    "* How to define simple functions to make your life easier (```def cool(param): ...```). \n",
    "* Strings (``str``), and some things that you can do with them.\n",
    "* Lists (``list``, ``[]``), and some things that you can do with them.\n",
    "* String and list indexes (``something[4]``), and slicing (``something[4:7]``).\n",
    "\n",
    "In the next notebook, we'll dive under the covers and talk about objects and types."
   ]
  }
 ],
 "metadata": {
  "kernelspec": {
   "display_name": "Python 2",
   "language": "python",
   "name": "python2"
  },
  "language_info": {
   "codemirror_mode": {
    "name": "ipython",
    "version": 2
   },
   "file_extension": ".py",
   "mimetype": "text/x-python",
   "name": "python",
   "nbconvert_exporter": "python",
   "pygments_lexer": "ipython2",
   "version": "2.7.9"
  }
 },
 "nbformat": 4,
 "nbformat_minor": 0
}
